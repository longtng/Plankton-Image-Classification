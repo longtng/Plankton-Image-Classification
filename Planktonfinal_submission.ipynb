{
 "cells": [
  {
   "cell_type": "markdown",
   "metadata": {
    "colab_type": "text",
    "id": "GBsbHFSRJ3WI"
   },
   "source": [
    "<b>AML2019</b><br>\n",
    "<b>Challenge 2</b>"
   ]
  },
  {
   "cell_type": "markdown",
   "metadata": {
    "colab_type": "text",
    "id": "RDeuyil1J3WJ"
   },
   "source": [
    "<div class=\"\">\n",
    "    <hr style=\"height:1px;border:none;color:#333;background-color:#333;\"/>    \n",
    "</div>"
   ]
  },
  {
   "cell_type": "markdown",
   "metadata": {
    "colab_type": "text",
    "id": "N9UvmXR_J3WL"
   },
   "source": [
    "# GROUP 22\n",
    "- **NGUYEN Thanh-Long**\n",
    "- **DANG Ngoc-Vien**"
   ]
  },
  {
   "cell_type": "markdown",
   "metadata": {
    "colab_type": "text",
    "id": "f9X538pNJ3WM"
   },
   "source": [
    "# FRAME THE PROBLEM \n",
    "<b>The model's output: Plankton Image Classification</b> <br>\n",
    "- <b>It is a supervised learning task.</b> <br>\n",
    "- <b>It is a classification task.</b><br>\n",
    "- <b>We use the technique fine-tuning some well-know CNN pretrained network. In this work, we use the pre-trained models modified to fit the new classification problem: DenseNet.</b>\n",
    "- <b>We encoded the labels via categorical encoding (also known as one-hot encoding) and used categorical_crossentropy as a loss function.</b>\n",
    "- <b>Then we also try to train the data on XGBOOST for experiment.</b>\n",
    "- <b>There are 2 ways we can apply on XGBOOST: train the handcrafted feattures itself, and ensemble learning when we can use the output of Deep-Learning then put together with handcrafted features then train those features as input of XGBOOST</b>"
   ]
  },
  {
   "cell_type": "markdown",
   "metadata": {
    "colab_type": "text",
    "id": "rNEJIBhsJ3WP"
   },
   "source": [
    "# SETUP"
   ]
  },
  {
   "cell_type": "code",
   "execution_count": null,
   "metadata": {
    "colab": {
     "base_uri": "https://localhost:8080/",
     "height": 164
    },
    "colab_type": "code",
    "executionInfo": {
     "elapsed": 4813,
     "status": "ok",
     "timestamp": 1556705995492,
     "user": {
      "displayName": "Long Thanh Nguyen",
      "photoUrl": "https://lh5.googleusercontent.com/-7qAqAOzYjhQ/AAAAAAAAAAI/AAAAAAACP8Y/-XIfAJwWP7o/s64/photo.jpg",
      "userId": "01317603220746098981"
     },
     "user_tz": -120
    },
    "id": "tKTG9x_7J3WQ",
    "outputId": "ae2abbc9-e16a-4265-bebf-0adb8946d9a8"
   },
   "outputs": [
    {
     "name": "stdout",
     "output_type": "stream",
     "text": [
      "Requirement already satisfied: Keras in /usr/local/lib/python3.6/dist-packages (2.2.4)\n",
      "Requirement already satisfied: numpy>=1.9.1 in /usr/local/lib/python3.6/dist-packages (from Keras) (1.16.3)\n",
      "Requirement already satisfied: pyyaml in /usr/local/lib/python3.6/dist-packages (from Keras) (3.13)\n",
      "Requirement already satisfied: scipy>=0.14 in /usr/local/lib/python3.6/dist-packages (from Keras) (1.2.1)\n",
      "Requirement already satisfied: keras-preprocessing>=1.0.5 in /usr/local/lib/python3.6/dist-packages (from Keras) (1.0.9)\n",
      "Requirement already satisfied: h5py in /usr/local/lib/python3.6/dist-packages (from Keras) (2.8.0)\n",
      "Requirement already satisfied: six>=1.9.0 in /usr/local/lib/python3.6/dist-packages (from Keras) (1.12.0)\n",
      "Requirement already satisfied: keras-applications>=1.0.6 in /usr/local/lib/python3.6/dist-packages (from Keras) (1.0.7)\n"
     ]
    }
   ],
   "source": [
    "!pip install Keras --user"
   ]
  },
  {
   "cell_type": "code",
   "execution_count": null,
   "metadata": {
    "colab": {
     "base_uri": "https://localhost:8080/",
     "height": 35
    },
    "colab_type": "code",
    "executionInfo": {
     "elapsed": 3037,
     "status": "ok",
     "timestamp": 1556709485838,
     "user": {
      "displayName": "Long Thanh Nguyen",
      "photoUrl": "https://lh5.googleusercontent.com/-7qAqAOzYjhQ/AAAAAAAAAAI/AAAAAAACP8Y/-XIfAJwWP7o/s64/photo.jpg",
      "userId": "01317603220746098981"
     },
     "user_tz": -120
    },
    "id": "ABI7Fq7jJ3WU",
    "outputId": "f4e69dff-532b-407b-8ef4-e85193892587"
   },
   "outputs": [
    {
     "name": "stderr",
     "output_type": "stream",
     "text": [
      "Using TensorFlow backend.\n"
     ]
    }
   ],
   "source": [
    "import time\n",
    "import pandas as pd\n",
    "import os \n",
    "import zipfile\n",
    "from io import BytesIO\n",
    "from PIL import Image\n",
    "import numpy as np\n",
    "import keras\n",
    "from sklearn.metrics import classification_report\n",
    "from keras.preprocessing.image import img_to_array, array_to_img\n",
    "from keras.applications import ResNet50\n",
    "from keras.applications import VGG16\n",
    "from keras.applications import DenseNet121\n",
    "from keras.applications import MobileNet\n",
    "from keras.layers import Concatenate\n",
    "from keras.layers import Input\n",
    "from keras import optimizers\n",
    "from sklearn import preprocessing\n",
    "from keras.optimizers import Adam\n",
    "from keras.optimizers import RMSprop\n",
    "from sklearn.utils import class_weight\n",
    "from keras.layers import Dense\n",
    "from keras.layers import Dropout\n",
    "from keras.layers import Flatten\n",
    "from keras.layers import Dropout\n",
    "from keras.models import load_model\n",
    "from keras.models import Sequential\n",
    "from skimage.transform import resize\n",
    "from sklearn.model_selection import train_test_split\n",
    "import csv\n",
    "import h5py\n",
    "import matplotlib.pyplot as plt\n",
    "%matplotlib inline"
   ]
  },
  {
   "cell_type": "markdown",
   "metadata": {
    "colab_type": "text",
    "id": "67nowgSBJ3Wd"
   },
   "source": [
    "# SET GLOBAL VARIABLES "
   ]
  },
  {
   "cell_type": "code",
   "execution_count": null,
   "metadata": {
    "colab": {
     "base_uri": "https://localhost:8080/",
     "height": 129
    },
    "colab_type": "code",
    "executionInfo": {
     "elapsed": 23476,
     "status": "ok",
     "timestamp": 1556709511919,
     "user": {
      "displayName": "Long Thanh Nguyen",
      "photoUrl": "https://lh5.googleusercontent.com/-7qAqAOzYjhQ/AAAAAAAAAAI/AAAAAAACP8Y/-XIfAJwWP7o/s64/photo.jpg",
      "userId": "01317603220746098981"
     },
     "user_tz": -120
    },
    "id": "Mxc8FwxoJ3Wf",
    "outputId": "8c2a339c-c888-4e36-8954-f2f7ea6f1e72"
   },
   "outputs": [
    {
     "name": "stdout",
     "output_type": "stream",
     "text": [
      "Go to this URL in a browser: https://accounts.google.com/o/oauth2/auth?client_id=947318989803-6bn6qk8qdgf4n4g3pfee6491hc0brc4i.apps.googleusercontent.com&redirect_uri=urn%3Aietf%3Awg%3Aoauth%3A2.0%3Aoob&scope=email%20https%3A%2F%2Fwww.googleapis.com%2Fauth%2Fdocs.test%20https%3A%2F%2Fwww.googleapis.com%2Fauth%2Fdrive%20https%3A%2F%2Fwww.googleapis.com%2Fauth%2Fdrive.photos.readonly%20https%3A%2F%2Fwww.googleapis.com%2Fauth%2Fpeopleapi.readonly&response_type=code\n",
      "\n",
      "Enter your authorization code:\n",
      "··········\n",
      "Mounted at /content/drive\n"
     ]
    }
   ],
   "source": [
    "# Define the data directory\n",
    "from google.colab import drive\n",
    "drive.mount('/content/drive')\n",
    "# '/Users/EURECOM/Semester 2 - SPRING 2019/06 AML - Algorithmic Machine Learning/Lab03 - Plankton Challenge'\n",
    "path_data1 = 'drive/My Drive/EURECOM/Semester 2 - SPRING 2019/06 AML - Algorithmic Machine Learning/Lab03 - Plankton Challenge/flowcam/imgs_orig.zip'\n",
    "path_data2 = 'drive/My Drive/EURECOM/Semester 2 - SPRING 2019/06 AML - Algorithmic Machine Learning/Lab03 - Plankton Challenge/flowcam/meta.csv'\n",
    "\n",
    "img_input = Input(shape=(64,64,1))\n",
    "img_conc = Concatenate()([img_input, img_input, img_input]) \n",
    "\n",
    "IMAGE_SIZE = 64\n",
    "N_CLASSES = 39\n",
    "BATCH_SIZE1 = 128\n",
    "BATCH_SIZE2 = 256\n",
    "N_EPOCHS = 3"
   ]
  },
  {
   "cell_type": "markdown",
   "metadata": {
    "colab_type": "text",
    "id": "RhUSMAXxJ3Wi"
   },
   "source": [
    "# LOAD AND PROCESS IMAGE DATA AND LABELS\n",
    "## Dataset Exploratory Analysis "
   ]
  },
  {
   "cell_type": "code",
   "execution_count": null,
   "metadata": {
    "colab": {
     "base_uri": "https://localhost:8080/",
     "height": 35
    },
    "colab_type": "code",
    "executionInfo": {
     "elapsed": 46635,
     "status": "ok",
     "timestamp": 1556709562100,
     "user": {
      "displayName": "Long Thanh Nguyen",
      "photoUrl": "https://lh5.googleusercontent.com/-7qAqAOzYjhQ/AAAAAAAAAAI/AAAAAAACP8Y/-XIfAJwWP7o/s64/photo.jpg",
      "userId": "01317603220746098981"
     },
     "user_tz": -120
    },
    "id": "n_cCLgiOJ3Wk",
    "outputId": "ae26b11a-43e2-46a9-ae8f-8f43a9773ef7"
   },
   "outputs": [
    {
     "name": "stdout",
     "output_type": "stream",
     "text": [
      "There are 243610 images in the directory\n"
     ]
    }
   ],
   "source": [
    "# load the images to memory.\n",
    "def extract_zip_to_memory(input_zip):\n",
    "    '''\n",
    "    This function extracts the images stored inside the given zip file.\n",
    "    It stores the result in a python dictionary.\n",
    "    \n",
    "    input_zip (string): path to the zip file\n",
    "    \n",
    "    returns (dict): {filename (string): image_file (bytes)}\n",
    "    '''\n",
    "    input_zip=zipfile.ZipFile(input_zip)\n",
    "    return {name: BytesIO(input_zip.read(name)) for name in input_zip.namelist() if name.endswith('.jpg')}\n",
    "img_files = extract_zip_to_memory(path_data1)\n",
    "# Check length\n",
    "print(\"There are {} images in the directory\".format(len(img_files)))"
   ]
  },
  {
   "cell_type": "code",
   "execution_count": null,
   "metadata": {
    "colab": {},
    "colab_type": "code",
    "id": "0SFsyPrLJ3Wr"
   },
   "outputs": [],
   "source": [
    "# Define and load the excel file\n",
    "df = pd.read_csv(path_data2, delimiter = ',', dtype={'level2': str, 'objid': int})\n",
    "df = df.loc[:, ['objid','level2']]"
   ]
  },
  {
   "cell_type": "code",
   "execution_count": null,
   "metadata": {
    "colab": {
     "base_uri": "https://localhost:8080/",
     "height": 146
    },
    "colab_type": "code",
    "executionInfo": {
     "elapsed": 4595,
     "status": "ok",
     "timestamp": 1556710761113,
     "user": {
      "displayName": "Long Thanh Nguyen",
      "photoUrl": "https://lh5.googleusercontent.com/-7qAqAOzYjhQ/AAAAAAAAAAI/AAAAAAACP8Y/-XIfAJwWP7o/s64/photo.jpg",
      "userId": "01317603220746098981"
     },
     "user_tz": -120
    },
    "id": "mDzvmpdbJ3Wy",
    "outputId": "be8985aa-743f-4bd3-96df-45be769593df"
   },
   "outputs": [
    {
     "name": "stdout",
     "output_type": "stream",
     "text": [
      "<class 'pandas.core.frame.DataFrame'>\n",
      "RangeIndex: 243610 entries, 0 to 243609\n",
      "Data columns (total 2 columns):\n",
      "objid     243610 non-null int64\n",
      "level2    242607 non-null object\n",
      "dtypes: int64(1), object(1)\n",
      "memory usage: 3.7+ MB\n"
     ]
    }
   ],
   "source": [
    "df.info()"
   ]
  },
  {
   "cell_type": "markdown",
   "metadata": {
    "colab_type": "text",
    "id": "CsF3OblbJ3W7"
   },
   "source": [
    "<div class=\"alert alert-info\">\n",
    "As you see the result above, there are 243,610 instances in the dataset. Notice that the level2 attribute has only 242,607 non-null values, meaning that there are 1,003 images missing this feature, which accounts for 4% of the images in the dataset. We have to discard images having no labels later.\n",
    "</div>"
   ]
  },
  {
   "cell_type": "code",
   "execution_count": null,
   "metadata": {
    "colab": {
     "base_uri": "https://localhost:8080/",
     "height": 35
    },
    "colab_type": "code",
    "executionInfo": {
     "elapsed": 2673,
     "status": "ok",
     "timestamp": 1556710761115,
     "user": {
      "displayName": "Long Thanh Nguyen",
      "photoUrl": "https://lh5.googleusercontent.com/-7qAqAOzYjhQ/AAAAAAAAAAI/AAAAAAACP8Y/-XIfAJwWP7o/s64/photo.jpg",
      "userId": "01317603220746098981"
     },
     "user_tz": -120
    },
    "id": "Lh8MqCrkJ3XB",
    "outputId": "b4016b27-9d2c-49c1-a5dc-ec9ec2d3e9fb"
   },
   "outputs": [
    {
     "name": "stdout",
     "output_type": "stream",
     "text": [
      "There are 39 different species\n"
     ]
    }
   ],
   "source": [
    "print(\"There are {} different species\".format(df['level2'].nunique()))"
   ]
  },
  {
   "cell_type": "markdown",
   "metadata": {
    "colab_type": "text",
    "id": "DVrnjkAAJ3XQ"
   },
   "source": [
    "<div class=\"alert alert-info\">\n",
    "Therefore, in this problem, there are 39 classes (level2)\n",
    "</div>"
   ]
  },
  {
   "cell_type": "code",
   "execution_count": null,
   "metadata": {
    "colab": {
     "base_uri": "https://localhost:8080/",
     "height": 752
    },
    "colab_type": "code",
    "executionInfo": {
     "elapsed": 1322,
     "status": "ok",
     "timestamp": 1556710761118,
     "user": {
      "displayName": "Long Thanh Nguyen",
      "photoUrl": "https://lh5.googleusercontent.com/-7qAqAOzYjhQ/AAAAAAAAAAI/AAAAAAACP8Y/-XIfAJwWP7o/s64/photo.jpg",
      "userId": "01317603220746098981"
     },
     "user_tz": -120
    },
    "id": "5cvg-XjjJ3XS",
    "outputId": "ff984b6a-bea9-4943-f4a5-acc6cbed5a50"
   },
   "outputs": [
    {
     "data": {
      "text/plain": [
       "detritus                          138439\n",
       "feces                              26936\n",
       "Neoceratium                        14014\n",
       "nauplii (Crustacea)                 9293\n",
       "badfocus (artefact)                 7848\n",
       "silks                               5629\n",
       "Copepoda                            5141\n",
       "Thalassionema                       5117\n",
       "rods                                4044\n",
       "multiple (other)                    3261\n",
       "Codonellopsis (Dictyocystidae)      2888\n",
       "Protoperidinium                     2256\n",
       "Tintinnidiidae                      2227\n",
       "Rhizosolenids                       2160\n",
       "Chaetoceros                         2105\n",
       "artefact                            1849\n",
       "pollen                              1821\n",
       "Codonaria                            845\n",
       "chainlarge                           751\n",
       "Undellidae                           710\n",
       "egg (other)                          685\n",
       "Hemiaulus                            670\n",
       "Dictyocysta                          549\n",
       "Dinophysiales                        525\n",
       "Annelida                             481\n",
       "Rhabdonella                          367\n",
       "Stenosemella                         357\n",
       "Coscinodiscids                       334\n",
       "Retaria                              257\n",
       "Pleurosigma                          191\n",
       "Ceratocorys horrida                  186\n",
       "centric                              145\n",
       "Odontella (Mediophyceae)             131\n",
       "Asterionellopsis                     117\n",
       "Cyttarocylis                         100\n",
       "Lithodesmioides                       68\n",
       "tempChaetoceros danicus               61\n",
       "Xystonellidae                         37\n",
       "Bacteriastrum                         12\n",
       "Name: level2, dtype: int64"
      ]
     },
     "execution_count": 7,
     "metadata": {
      "tags": []
     },
     "output_type": "execute_result"
    }
   ],
   "source": [
    "df['level2'].value_counts()"
   ]
  },
  {
   "cell_type": "markdown",
   "metadata": {
    "colab_type": "text",
    "id": "bzPPfeT_J3XX"
   },
   "source": [
    "<div class=\"alert alert-info\">\n",
    "The images belong to 39 categories with different number of samples for each category (from 12 to 138439 samples per class). Therefore, there is a strong class imbalance (lowest 12, highest 138439).\n",
    "</div>"
   ]
  },
  {
   "cell_type": "markdown",
   "metadata": {
    "colab_type": "text",
    "id": "bI6Mw2c4J3XY"
   },
   "source": [
    "## Data Cleaning\n",
    "Discarding images having no labels and having labels but null values."
   ]
  },
  {
   "cell_type": "code",
   "execution_count": null,
   "metadata": {
    "colab": {},
    "colab_type": "code",
    "id": "-SkL6qb0J3XY"
   },
   "outputs": [],
   "source": [
    "list_objid_isnull = df[df['level2'].isnull()]['objid'].tolist()\n",
    "for i in list_objid_isnull:\n",
    "    file_path = os.path.join('imgs', str(i) + '.' + 'jpg')\n",
    "    del img_files[file_path]\n",
    "df = df.dropna()"
   ]
  },
  {
   "cell_type": "code",
   "execution_count": null,
   "metadata": {
    "colab": {
     "base_uri": "https://localhost:8080/",
     "height": 35
    },
    "colab_type": "code",
    "executionInfo": {
     "elapsed": 356,
     "status": "ok",
     "timestamp": 1556710763839,
     "user": {
      "displayName": "Long Thanh Nguyen",
      "photoUrl": "https://lh5.googleusercontent.com/-7qAqAOzYjhQ/AAAAAAAAAAI/AAAAAAACP8Y/-XIfAJwWP7o/s64/photo.jpg",
      "userId": "01317603220746098981"
     },
     "user_tz": -120
    },
    "id": "dzpnflIBJ3Xd",
    "outputId": "80f9449f-7b6f-4f0c-c2b2-3c86862b7606"
   },
   "outputs": [
    {
     "data": {
      "text/plain": [
       "242607"
      ]
     },
     "execution_count": 9,
     "metadata": {
      "tags": []
     },
     "output_type": "execute_result"
    }
   ],
   "source": [
    "len(img_files)"
   ]
  },
  {
   "cell_type": "code",
   "execution_count": null,
   "metadata": {
    "colab": {
     "base_uri": "https://localhost:8080/",
     "height": 35
    },
    "colab_type": "code",
    "executionInfo": {
     "elapsed": 567,
     "status": "ok",
     "timestamp": 1556710764946,
     "user": {
      "displayName": "Long Thanh Nguyen",
      "photoUrl": "https://lh5.googleusercontent.com/-7qAqAOzYjhQ/AAAAAAAAAAI/AAAAAAACP8Y/-XIfAJwWP7o/s64/photo.jpg",
      "userId": "01317603220746098981"
     },
     "user_tz": -120
    },
    "id": "T8uSrXq2J3Xi",
    "outputId": "f95b5112-5b80-45cc-fb8b-1ac8333bddc7"
   },
   "outputs": [
    {
     "data": {
      "text/plain": [
       "242607"
      ]
     },
     "execution_count": 10,
     "metadata": {
      "tags": []
     },
     "output_type": "execute_result"
    }
   ],
   "source": [
    "len(df)"
   ]
  },
  {
   "cell_type": "markdown",
   "metadata": {
    "colab_type": "text",
    "id": "L7xz69fKJ3Xn"
   },
   "source": [
    "## Image Description"
   ]
  },
  {
   "cell_type": "code",
   "execution_count": null,
   "metadata": {
    "colab": {
     "base_uri": "https://localhost:8080/",
     "height": 35
    },
    "colab_type": "code",
    "executionInfo": {
     "elapsed": 546,
     "status": "ok",
     "timestamp": 1556710766295,
     "user": {
      "displayName": "Long Thanh Nguyen",
      "photoUrl": "https://lh5.googleusercontent.com/-7qAqAOzYjhQ/AAAAAAAAAAI/AAAAAAACP8Y/-XIfAJwWP7o/s64/photo.jpg",
      "userId": "01317603220746098981"
     },
     "user_tz": -120
    },
    "id": "3qbFZi_3J3Xp",
    "outputId": "3c8177b3-d1cf-44fc-e379-0beef51ae32b"
   },
   "outputs": [
    {
     "name": "stdout",
     "output_type": "stream",
     "text": [
      "There are 242607 images in the directory after cleaning\n"
     ]
    }
   ],
   "source": [
    "# Check length after cleaning\n",
    "print(\"There are {} images in the directory after cleaning\".format(len(img_files)))"
   ]
  },
  {
   "cell_type": "code",
   "execution_count": null,
   "metadata": {
    "colab": {
     "base_uri": "https://localhost:8080/",
     "height": 72
    },
    "colab_type": "code",
    "executionInfo": {
     "elapsed": 431,
     "status": "ok",
     "timestamp": 1556710767149,
     "user": {
      "displayName": "Long Thanh Nguyen",
      "photoUrl": "https://lh5.googleusercontent.com/-7qAqAOzYjhQ/AAAAAAAAAAI/AAAAAAACP8Y/-XIfAJwWP7o/s64/photo.jpg",
      "userId": "01317603220746098981"
     },
     "user_tz": -120
    },
    "id": "fbO7HM1HJ3Xy",
    "outputId": "03e15e67-29da-4e7c-bdaf-72fa92e837ef"
   },
   "outputs": [
    {
     "data": {
      "image/png": "[encoded data removed]",
      "text/plain": [
       "<PIL.JpegImagePlugin.JpegImageFile image mode=L size=50x55 at 0x7FBEEC68D128>"
      ]
     },
     "execution_count": 12,
     "metadata": {
      "tags": []
     },
     "output_type": "execute_result"
    }
   ],
   "source": [
    "# Display an example image \n",
    "Image.open(img_files['imgs/32738710.jpg'])"
   ]
  },
  {
   "cell_type": "code",
   "execution_count": null,
   "metadata": {
    "colab": {
     "base_uri": "https://localhost:8080/",
     "height": 35
    },
    "colab_type": "code",
    "executionInfo": {
     "elapsed": 1162,
     "status": "ok",
     "timestamp": 1556710769159,
     "user": {
      "displayName": "Long Thanh Nguyen",
      "photoUrl": "https://lh5.googleusercontent.com/-7qAqAOzYjhQ/AAAAAAAAAAI/AAAAAAACP8Y/-XIfAJwWP7o/s64/photo.jpg",
      "userId": "01317603220746098981"
     },
     "user_tz": -120
    },
    "id": "aoPLo2HIJ3X5",
    "outputId": "bbf4b5fa-ef23-44be-df95-ecb4bdaf39d8"
   },
   "outputs": [
    {
     "data": {
      "text/plain": [
       "(55, 50, 1)"
      ]
     },
     "execution_count": 13,
     "metadata": {
      "tags": []
     },
     "output_type": "execute_result"
    }
   ],
   "source": [
    "# Load the image as a numpy array:\n",
    "img = img_to_array(Image.open(img_files['imgs/32738710.jpg']))\n",
    "img.shape"
   ]
  },
  {
   "cell_type": "code",
   "execution_count": null,
   "metadata": {
    "colab": {
     "base_uri": "https://localhost:8080/",
     "height": 35
    },
    "colab_type": "code",
    "executionInfo": {
     "elapsed": 909,
     "status": "ok",
     "timestamp": 1556710770240,
     "user": {
      "displayName": "Long Thanh Nguyen",
      "photoUrl": "https://lh5.googleusercontent.com/-7qAqAOzYjhQ/AAAAAAAAAAI/AAAAAAACP8Y/-XIfAJwWP7o/s64/photo.jpg",
      "userId": "01317603220746098981"
     },
     "user_tz": -120
    },
    "id": "FFqyMgXQJ3YB",
    "outputId": "99ccee96-6b48-47d4-a7a2-ca1fecc4bdee"
   },
   "outputs": [
    {
     "data": {
      "text/plain": [
       "255.0"
      ]
     },
     "execution_count": 14,
     "metadata": {
      "tags": []
     },
     "output_type": "execute_result"
    }
   ],
   "source": [
    "max(img.reshape(-1))"
   ]
  },
  {
   "cell_type": "code",
   "execution_count": null,
   "metadata": {
    "colab": {
     "base_uri": "https://localhost:8080/",
     "height": 35
    },
    "colab_type": "code",
    "executionInfo": {
     "elapsed": 11097,
     "status": "ok",
     "timestamp": 1556710781292,
     "user": {
      "displayName": "Long Thanh Nguyen",
      "photoUrl": "https://lh5.googleusercontent.com/-7qAqAOzYjhQ/AAAAAAAAAAI/AAAAAAACP8Y/-XIfAJwWP7o/s64/photo.jpg",
      "userId": "01317603220746098981"
     },
     "user_tz": -120
    },
    "id": "tkDc8M2WJ3YK",
    "outputId": "72e657ce-9a36-4cf2-faa6-fc3b392f61e9"
   },
   "outputs": [
    {
     "name": "stdout",
     "output_type": "stream",
     "text": [
      "There are 53074 the sizes of images\n"
     ]
    }
   ],
   "source": [
    "filePaths = []\n",
    "for key in img_files:\n",
    "    filePaths.append(key)\n",
    "width = [] # list of width-size of all images\n",
    "height = [] # list of height-size of all images\n",
    "img_size = set() # list of pairs (width, height) of all images\n",
    "for i in filePaths:\n",
    "    im = Image.open(img_files[i])\n",
    "    img_size.add(im.size)\n",
    "    width_i, height_i = im.size\n",
    "    width.append(width_i)\n",
    "    height.append(height_i)\n",
    "print(\"There are {} the sizes of images\".format(len(img_size)))"
   ]
  },
  {
   "cell_type": "code",
   "execution_count": null,
   "metadata": {
    "colab": {
     "base_uri": "https://localhost:8080/",
     "height": 269
    },
    "colab_type": "code",
    "executionInfo": {
     "elapsed": 10264,
     "status": "ok",
     "timestamp": 1556710781634,
     "user": {
      "displayName": "Long Thanh Nguyen",
      "photoUrl": "https://lh5.googleusercontent.com/-7qAqAOzYjhQ/AAAAAAAAAAI/AAAAAAACP8Y/-XIfAJwWP7o/s64/photo.jpg",
      "userId": "01317603220746098981"
     },
     "user_tz": -120
    },
    "id": "nkeCO8KWJ3YZ",
    "outputId": "bcfb9d66-4c29-49d1-9c40-3cda3b5f4664"
   },
   "outputs": [
    {
     "data": {
      "image/png": "[encoded data removed]",
      "text/plain": [
       "<Figure size 432x288 with 1 Axes>"
      ]
     },
     "metadata": {
      "tags": []
     },
     "output_type": "display_data"
    }
   ],
   "source": [
    "# Draw width-values\n",
    "plt.plot(width)\n",
    "plt.ylabel('width-values')\n",
    "plt.show()"
   ]
  },
  {
   "cell_type": "code",
   "execution_count": null,
   "metadata": {
    "colab": {
     "base_uri": "https://localhost:8080/",
     "height": 269
    },
    "colab_type": "code",
    "executionInfo": {
     "elapsed": 9744,
     "status": "ok",
     "timestamp": 1556710782523,
     "user": {
      "displayName": "Long Thanh Nguyen",
      "photoUrl": "https://lh5.googleusercontent.com/-7qAqAOzYjhQ/AAAAAAAAAAI/AAAAAAACP8Y/-XIfAJwWP7o/s64/photo.jpg",
      "userId": "01317603220746098981"
     },
     "user_tz": -120
    },
    "id": "YUcHEV7eJ3Yh",
    "outputId": "1c7a931c-e685-4797-c577-ac0a58903b9b"
   },
   "outputs": [
    {
     "data": {
      "image/png": "[encoded data removed]",
      "text/plain": [
       "<Figure size 432x288 with 1 Axes>"
      ]
     },
     "metadata": {
      "tags": []
     },
     "output_type": "display_data"
    }
   ],
   "source": [
    "# Draw height-values\n",
    "plt.plot(height)\n",
    "plt.ylabel('height-values')\n",
    "plt.show()"
   ]
  },
  {
   "cell_type": "code",
   "execution_count": null,
   "metadata": {
    "colab": {
     "base_uri": "https://localhost:8080/",
     "height": 35
    },
    "colab_type": "code",
    "executionInfo": {
     "elapsed": 8049,
     "status": "ok",
     "timestamp": 1556710782526,
     "user": {
      "displayName": "Long Thanh Nguyen",
      "photoUrl": "https://lh5.googleusercontent.com/-7qAqAOzYjhQ/AAAAAAAAAAI/AAAAAAACP8Y/-XIfAJwWP7o/s64/photo.jpg",
      "userId": "01317603220746098981"
     },
     "user_tz": -120
    },
    "id": "KjGJdv0UJ3Yk",
    "outputId": "8ce02ad0-dd0b-4ea6-9f96-388f2738f415"
   },
   "outputs": [
    {
     "data": {
      "text/plain": [
       "(2, 972)"
      ]
     },
     "execution_count": 18,
     "metadata": {
      "tags": []
     },
     "output_type": "execute_result"
    }
   ],
   "source": [
    "min(width), max(width)"
   ]
  },
  {
   "cell_type": "code",
   "execution_count": null,
   "metadata": {
    "colab": {
     "base_uri": "https://localhost:8080/",
     "height": 35
    },
    "colab_type": "code",
    "executionInfo": {
     "elapsed": 7107,
     "status": "ok",
     "timestamp": 1556710782527,
     "user": {
      "displayName": "Long Thanh Nguyen",
      "photoUrl": "https://lh5.googleusercontent.com/-7qAqAOzYjhQ/AAAAAAAAAAI/AAAAAAACP8Y/-XIfAJwWP7o/s64/photo.jpg",
      "userId": "01317603220746098981"
     },
     "user_tz": -120
    },
    "id": "2n_Bv98cJ3Yq",
    "outputId": "d870e872-2458-41d1-f6eb-96deb0aec74c"
   },
   "outputs": [
    {
     "data": {
      "text/plain": [
       "(2, 739)"
      ]
     },
     "execution_count": 19,
     "metadata": {
      "tags": []
     },
     "output_type": "execute_result"
    }
   ],
   "source": [
    "min(height), max(height)"
   ]
  },
  {
   "cell_type": "code",
   "execution_count": null,
   "metadata": {
    "colab": {
     "base_uri": "https://localhost:8080/",
     "height": 35
    },
    "colab_type": "code",
    "executionInfo": {
     "elapsed": 5793,
     "status": "ok",
     "timestamp": 1556710782531,
     "user": {
      "displayName": "Long Thanh Nguyen",
      "photoUrl": "https://lh5.googleusercontent.com/-7qAqAOzYjhQ/AAAAAAAAAAI/AAAAAAACP8Y/-XIfAJwWP7o/s64/photo.jpg",
      "userId": "01317603220746098981"
     },
     "user_tz": -120
    },
    "id": "Gu0mIit0J3Yt",
    "outputId": "8aaa0b7c-f88a-4a7c-863f-b0562dc848b9"
   },
   "outputs": [
    {
     "data": {
      "text/plain": [
       "(67.0, 87.0)"
      ]
     },
     "execution_count": 20,
     "metadata": {
      "tags": []
     },
     "output_type": "execute_result"
    }
   ],
   "source": [
    "np.median(width), np.median(height)"
   ]
  },
  {
   "cell_type": "markdown",
   "metadata": {
    "colab_type": "text",
    "id": "I16l3tJ3J3Yx"
   },
   "source": [
    "<div class=\"alert alert-info\">\n",
    "This Plankton dataset is gray-scale images with their size are various - up to 53,074 different sizes - ranging from 2 to  972 pixels wide and from 2 to 739 pixels height and in each pixel, the value ranges to 255. Hence, it is had to pre-process these images and scale them into the same size so that they can be processed by the CNN models. As you can see, the median of the width and height are 67 and  87 respectively. Therefore, we decided to resize and pad image to a square shape (64, 64). In addition, the gray-scale value in each pixel is converted from [0,255] into [0,1], in order to satisfy the requirement of the CNN model we used.\n",
    "</div>"
   ]
  },
  {
   "cell_type": "markdown",
   "metadata": {
    "colab_type": "text",
    "id": "4Gm8373uJ3Yy"
   },
   "source": [
    "## Load Images and Create Labels for Plankton Dataset"
   ]
  },
  {
   "cell_type": "code",
   "execution_count": null,
   "metadata": {
    "colab": {},
    "colab_type": "code",
    "id": "tgIilXymJ3Yz"
   },
   "outputs": [],
   "source": [
    "# Encode labels with value between 0 and n_classes-1\n",
    "le = preprocessing.LabelEncoder()\n",
    "le.fit(list(df['level2']))\n",
    "labels = le.transform(list(df['level2']))\n",
    "label_names = list(le.classes_)\n",
    "df['class'] = list(labels)\n",
    "df = df.loc[:, ['objid','class']]\n",
    "export_csv = df.to_csv (r'export_dataframe.csv', index = None, header=True)"
   ]
  },
  {
   "cell_type": "code",
   "execution_count": null,
   "metadata": {
    "colab": {
     "base_uri": "https://localhost:8080/",
     "height": 752
    },
    "colab_type": "code",
    "executionInfo": {
     "elapsed": 5513,
     "status": "ok",
     "timestamp": 1556710784636,
     "user": {
      "displayName": "Long Thanh Nguyen",
      "photoUrl": "https://lh5.googleusercontent.com/-7qAqAOzYjhQ/AAAAAAAAAAI/AAAAAAACP8Y/-XIfAJwWP7o/s64/photo.jpg",
      "userId": "01317603220746098981"
     },
     "user_tz": -120
    },
    "id": "SNbH0HTwJ3Y2",
    "outputId": "bc7e14e5-a184-4766-ca4b-239992bbaed1"
   },
   "outputs": [
    {
     "data": {
      "text/plain": [
       "30    138439\n",
       "32     26936\n",
       "14     14014\n",
       "34      9293\n",
       "27      7848\n",
       "37      5629\n",
       "7       5141\n",
       "22      5117\n",
       "36      4044\n",
       "33      3261\n",
       "6       2888\n",
       "17      2256\n",
       "23      2227\n",
       "20      2160\n",
       "4       2105\n",
       "26      1849\n",
       "35      1821\n",
       "5        845\n",
       "29       751\n",
       "24       710\n",
       "31       685\n",
       "12       670\n",
       "10       549\n",
       "11       525\n",
       "0        481\n",
       "19       367\n",
       "21       357\n",
       "8        334\n",
       "18       257\n",
       "16       191\n",
       "3        186\n",
       "28       145\n",
       "15       131\n",
       "1        117\n",
       "9        100\n",
       "13        68\n",
       "38        61\n",
       "25        37\n",
       "2         12\n",
       "Name: class, dtype: int64"
      ]
     },
     "execution_count": 22,
     "metadata": {
      "tags": []
     },
     "output_type": "execute_result"
    }
   ],
   "source": [
    "# Re-check labels\n",
    "df['class'].value_counts()"
   ]
  },
  {
   "cell_type": "code",
   "execution_count": null,
   "metadata": {
    "colab": {
     "base_uri": "https://localhost:8080/",
     "height": 362
    },
    "colab_type": "code",
    "executionInfo": {
     "elapsed": 4680,
     "status": "ok",
     "timestamp": 1556710785711,
     "user": {
      "displayName": "Long Thanh Nguyen",
      "photoUrl": "https://lh5.googleusercontent.com/-7qAqAOzYjhQ/AAAAAAAAAAI/AAAAAAACP8Y/-XIfAJwWP7o/s64/photo.jpg",
      "userId": "01317603220746098981"
     },
     "user_tz": -120
    },
    "id": "UOhIO_HbJ3Y8",
    "outputId": "5d4d81ab-5cca-437c-c3b6-512e20252854"
   },
   "outputs": [
    {
     "data": {
      "image/png": "[encoded data removed]",
      "text/plain": [
       "<Figure size 432x288 with 1 Axes>"
      ]
     },
     "metadata": {
      "tags": []
     },
     "output_type": "display_data"
    },
    {
     "name": "stdout",
     "output_type": "stream",
     "text": [
      "{30: 138439, 20: 2160, 37: 5629, 32: 26936, 5: 845, 1: 117, 6: 2888, 10: 549, 14: 14014, 7: 5141, 8: 334, 34: 9293, 17: 2256, 0: 481, 3: 186, 11: 525, 4: 2105, 22: 5117, 24: 710, 36: 4044, 12: 670, 23: 2227, 35: 1821, 18: 257, 33: 3261, 19: 367, 29: 751, 26: 1849, 16: 191, 15: 131, 28: 145, 9: 100, 27: 7848, 31: 685, 21: 357, 25: 37, 13: 68, 38: 61, 2: 12}\n",
      "Shapes:\n",
      "X:(242607, 64, 64, 1)\n",
      "Y:(242607, 39)\n"
     ]
    }
   ],
   "source": [
    "# Load train images id with class labels\n",
    "filenames = [i for i in img_files if i.endswith('.jpg')]\n",
    "with open('export_dataframe.csv', mode='r') as infile:\n",
    "    reader = csv.reader(infile)\n",
    "    file_to_class = {rows[0]:rows[1] for rows in reader}\n",
    "# Calculate class counts\n",
    "with open('export_dataframe.csv', mode='r') as infile:\n",
    "    reader = csv.reader(infile)\n",
    "    class_counts = {}\n",
    "    for row in reader:\n",
    "        if(row[1] != 'class'):\n",
    "            class_counts[int(row[1])] = class_counts.get(int(row[1]), 0) + 1\n",
    "    lists = sorted(class_counts.items())\n",
    "    x, y = zip(*lists)\n",
    "    plt.plot(x, y)\n",
    "    plt.show()            \n",
    "print(class_counts)       \n",
    "X = np.empty([len(filenames),IMAGE_SIZE,IMAGE_SIZE,1])\n",
    "Y_tmp = np.empty([len(filenames)])\n",
    "Y = np.empty([len(filenames),N_CLASSES])\n",
    "print('Shapes:\\nX:{}\\nY:{}'.format(X.shape, Y.shape))"
   ]
  },
  {
   "cell_type": "markdown",
   "metadata": {
    "colab_type": "text",
    "id": "AMaSIBRQJ3Y_"
   },
   "source": [
    "<div class=\"alert alert-info\">\n",
    "    As we mentioned before, there is a strong class imbalance (lowest 12, highest 138439). The class with the highest samples is roughly higher 11537 times than the class with the lowest one. To counter this, oversampling minority classes to be as big as the majority classes can be one of the options used. To oversampling, we used RandomOverSampler from imblearn of scikit-learn, but this method really consumes RAM and Google Colab platform with 12G RAM cannot run. Therefore, we chose another method, this is class_weight of Keras to handle unbalanced classes. \n",
    "</div>"
   ]
  },
  {
   "cell_type": "markdown",
   "metadata": {
    "colab_type": "text",
    "id": "Bccbn4HJJ3ZC"
   },
   "source": [
    "## Image Preprocessing\n",
    "- <b>convert from [0,255] to [0.0 to 1.0]</b>\n",
    "- <b>square and resize image to (64,64)</b>"
   ]
  },
  {
   "cell_type": "code",
   "execution_count": null,
   "metadata": {
    "colab": {},
    "colab_type": "code",
    "id": "ZBKPxPNqJ3ZC"
   },
   "outputs": [],
   "source": [
    "# Functions to Resize, Pad Image to Square Shape\n",
    "def get_padding(i):\n",
    " \n",
    "    if i%2 == 0:\n",
    "        return (int(i/2),int(i/2))\n",
    "    else:\n",
    "        return (int(i/2-.5), int(i/2+.5))\n",
    "\n",
    "def pad_image(img):\n",
    "   \n",
    "    H, W = img.shape\n",
    "    if H == W:\n",
    "        return img\n",
    "    elif H > W:\n",
    "        return np.pad(img, ((0,0), get_padding(H-W)), 'constant')\n",
    "    else:\n",
    "        return np.pad(img, (get_padding(W-H), (0,0)), 'constant')\n",
    "\n",
    "def resize_image(img):\n",
    "    \n",
    "    return resize(img, (IMAGE_SIZE,IMAGE_SIZE), mode='reflect')"
   ]
  },
  {
   "cell_type": "code",
   "execution_count": null,
   "metadata": {
    "colab": {
     "base_uri": "https://localhost:8080/",
     "height": 164
    },
    "colab_type": "code",
    "executionInfo": {
     "elapsed": 461340,
     "status": "ok",
     "timestamp": 1556711246430,
     "user": {
      "displayName": "Long Thanh Nguyen",
      "photoUrl": "https://lh5.googleusercontent.com/-7qAqAOzYjhQ/AAAAAAAAAAI/AAAAAAACP8Y/-XIfAJwWP7o/s64/photo.jpg",
      "userId": "01317603220746098981"
     },
     "user_tz": -120
    },
    "id": "XwyY4X8sJ3ZE",
    "outputId": "57380bfd-4eb4-49e8-8cd8-7e59b86da739"
   },
   "outputs": [
    {
     "name": "stderr",
     "output_type": "stream",
     "text": [
      "/usr/local/lib/python3.6/dist-packages/skimage/transform/_warps.py:110: UserWarning: Anti-aliasing will be enabled by default in skimage 0.15 to avoid aliasing artifacts when down-sampling images.\n",
      "  warn(\"Anti-aliasing will be enabled by default in skimage 0.15 to \"\n"
     ]
    },
    {
     "name": "stdout",
     "output_type": "stream",
     "text": [
      "Shapes:\n",
      "X:(242607, 64, 64, 1)\n",
      "Y:(242607,)\n",
      "Shapes:\n",
      "X:(242607, 64, 64, 1)\n",
      "Y:(242607, 39)\n"
     ]
    }
   ],
   "source": [
    "for i in range(len(filenames)):\n",
    "    # read and transform image to usable format\n",
    "    img = np.array(Image.open(img_files[filenames[i]]))\n",
    "    img = np.absolute(np.divide(img.astype(float), 255) - 1.0)\n",
    "    img = resize_image(pad_image(img))\n",
    "    # create a grayscale channel \n",
    "    img = img.reshape(IMAGE_SIZE,IMAGE_SIZE,1)\n",
    "    \n",
    "    X[i] = img\n",
    "    Y_tmp[i]= int(file_to_class[filenames[i].split('/')[-1].split('.')[-2]])\n",
    "    \n",
    "print('Shapes:\\nX:{}\\nY:{}'.format(X.shape, Y_tmp.shape))\n",
    "for i in range(len(Y_tmp)):\n",
    "    Y[i][int(Y_tmp[i])] = 1.0\n",
    "print('Shapes:\\nX:{}\\nY:{}'.format(X.shape, Y.shape))"
   ]
  },
  {
   "cell_type": "markdown",
   "metadata": {
    "colab_type": "text",
    "id": "VB2gGRocJ3ZI"
   },
   "source": [
    "### An example image after Preprocessing"
   ]
  },
  {
   "cell_type": "code",
   "execution_count": null,
   "metadata": {
    "colab": {
     "base_uri": "https://localhost:8080/",
     "height": 232
    },
    "colab_type": "code",
    "executionInfo": {
     "elapsed": 460017,
     "status": "ok",
     "timestamp": 1556711246442,
     "user": {
      "displayName": "Long Thanh Nguyen",
      "photoUrl": "https://lh5.googleusercontent.com/-7qAqAOzYjhQ/AAAAAAAAAAI/AAAAAAACP8Y/-XIfAJwWP7o/s64/photo.jpg",
      "userId": "01317603220746098981"
     },
     "user_tz": -120
    },
    "id": "bmsC6HzqJ3ZJ",
    "outputId": "4323d201-be26-474c-a5d7-a0e0a0815f83"
   },
   "outputs": [
    {
     "data": {
      "text/plain": [
       "<matplotlib.image.AxesImage at 0x7fbe95bfc438>"
      ]
     },
     "execution_count": 26,
     "metadata": {
      "tags": []
     },
     "output_type": "execute_result"
    },
    {
     "data": {
      "image/png": "[encoded data removed]",
      "text/plain": [
       "<Figure size 1152x216 with 1 Axes>"
      ]
     },
     "metadata": {
      "tags": []
     },
     "output_type": "display_data"
    }
   ],
   "source": [
    "f = plt.figure(figsize=(16,3))\n",
    "sub1 = plt.subplot(1,4,1)\n",
    "plt.imshow(X[250][:,:,0], cmap='binary')"
   ]
  },
  {
   "cell_type": "markdown",
   "metadata": {
    "colab_type": "text",
    "id": "RR7TgoHMJ3ZM"
   },
   "source": [
    "## Split the Plankton dataset"
   ]
  },
  {
   "cell_type": "code",
   "execution_count": null,
   "metadata": {
    "colab": {},
    "colab_type": "code",
    "id": "wNv1FRbRJ3ZN"
   },
   "outputs": [],
   "source": [
    "# The test dataset  accounts for 60%, validation 20% and testing 20%\n",
    "X_train, X_val, X_test, y_train, y_val, y_test = X[:145565], X[145565:194086], X[194086:], Y[:145565], Y[145565:194086], Y[194086:]"
   ]
  },
  {
   "cell_type": "markdown",
   "metadata": {
    "colab_type": "text",
    "id": "iDiPSOnnJ3ZP"
   },
   "source": [
    "## Estimate class weights for unbalanced datasets"
   ]
  },
  {
   "cell_type": "code",
   "execution_count": null,
   "metadata": {
    "colab": {},
    "colab_type": "code",
    "id": "87XKZ3iHJ3ZT"
   },
   "outputs": [],
   "source": [
    "class_weight = class_weight.compute_class_weight('balanced', np.unique(Y_tmp[:169825]), Y_tmp[:169825])"
   ]
  },
  {
   "cell_type": "code",
   "execution_count": null,
   "metadata": {
    "colab": {
     "base_uri": "https://localhost:8080/",
     "height": 201
    },
    "colab_type": "code",
    "executionInfo": {
     "elapsed": 455589,
     "status": "ok",
     "timestamp": 1556711246700,
     "user": {
      "displayName": "Long Thanh Nguyen",
      "photoUrl": "https://lh5.googleusercontent.com/-7qAqAOzYjhQ/AAAAAAAAAAI/AAAAAAACP8Y/-XIfAJwWP7o/s64/photo.jpg",
      "userId": "01317603220746098981"
     },
     "user_tz": -120
    },
    "id": "FwK_KC1EJ3ZW",
    "outputId": "1c7cc11d-0e79-4369-8759-ffe93cf4ed81"
   },
   "outputs": [
    {
     "name": "stdout",
     "output_type": "stream",
     "text": [
      "[1.25852231e+01 5.31035022e+01 4.83831909e+02 3.45594221e+01\n",
      " 2.92443733e+00 7.49481442e+00 2.14084915e+00 1.21872017e+00\n",
      " 1.92676424e+01 6.59770785e+01 1.14894121e+01 1.21633720e+01\n",
      " 9.38467065e+00 9.46627648e+01 4.46889078e-01 4.58367072e+01\n",
      " 3.11034799e+01 2.71985458e+00 2.50257884e+01 1.80684115e+01\n",
      " 2.88185783e+00 1.67480276e+01 1.21565806e+00 2.78598028e+00\n",
      " 8.39014871e+00 1.50154730e+02 3.34446020e+00 7.84027220e-01\n",
      " 4.68224428e+01 8.23154476e+00 4.48846795e-02 8.77920802e+00\n",
      " 2.31486214e-01 1.94050231e+00 6.76162606e-01 3.42333898e+00\n",
      " 1.53165219e+00 1.10548037e+00 8.88670853e+01]\n"
     ]
    }
   ],
   "source": [
    "print(class_weight)"
   ]
  },
  {
   "cell_type": "code",
   "execution_count": null,
   "metadata": {
    "colab": {},
    "colab_type": "code",
    "id": "iY41_rLXJ3ZZ"
   },
   "outputs": [],
   "source": [
    "# To free this memory again\n",
    "del img_files\n",
    "del(Y)\n",
    "del(Y_tmp)"
   ]
  },
  {
   "cell_type": "markdown",
   "metadata": {
    "colab_type": "text",
    "id": "JO9yfKhzJ3Zb"
   },
   "source": [
    "# DEFINE AND TRAIN CNN PRETRAINED NETWORK\n"
   ]
  },
  {
   "cell_type": "markdown",
   "metadata": {
    "colab_type": "text",
    "id": "ejXEacA3ARl8"
   },
   "source": [
    "<div class=\"alert alert-info\">\n",
    "<ul>\n",
    "<li>As we mentioned at the beginning,  we use the technique fine-tuning a pre-trained network trained on ImageNet for applying deep learning to the smaller dataset - Plankton dataset to classifying plankton into 39  species. In this work, we use DenseNet with 121 layers architecture. </li>\n",
    "    <li>We chose the <b>DenseNet</b> because it's the single best model compared to AlexNet, GoogleNet, InceptionV3, VGGNet, ResNet, SqueezeNet: it obtains the results in Plankton datasets, whom information derived from Alessandra Lumini and  Loris Nanni's experiment. (https://www.researchgate.net/publication/331324840_Deep_learning_and_transfer_learning_features_for_plankton_classification).</li>\n",
    "<li>By observing, the first layers of deep networks often extract low-level features and the last layers often get high-level features bringing own characteristics of the dataset.</li>\n",
    "<li>The original dataset (ImageNet dataset) contains 1.4 million labeled images and 1,000 different classes include invertebrate and fungus. Therefore, ImageNet may contain a few plankton images (We just guess, cannot find this information) and With our own dataset (Plankton dataset) just having around 250,000 images. That's why we add some more layers to before adding the last layer ( fully connected layer and softmax regression) having the number of units equaling the number of classes (with this Plankton dataset is 39).</li>\n",
    "</ul>\n",
    "</div>"
   ]
  },
  {
   "cell_type": "markdown",
   "metadata": {
    "colab_type": "text",
    "id": "SpTNv5dEJ3Z0"
   },
   "source": [
    "## DenseNet"
   ]
  },
  {
   "cell_type": "code",
   "execution_count": null,
   "metadata": {
    "colab": {
     "base_uri": "https://localhost:8080/",
     "height": 129
    },
    "colab_type": "code",
    "executionInfo": {
     "elapsed": 472647,
     "status": "ok",
     "timestamp": 1556711267677,
     "user": {
      "displayName": "Long Thanh Nguyen",
      "photoUrl": "https://lh5.googleusercontent.com/-7qAqAOzYjhQ/AAAAAAAAAAI/AAAAAAACP8Y/-XIfAJwWP7o/s64/photo.jpg",
      "userId": "01317603220746098981"
     },
     "user_tz": -120
    },
    "id": "jk5RKL-EJ3Z1",
    "outputId": "2c3fd66a-53d0-4b66-c83d-dd88277f636e"
   },
   "outputs": [],
   "source": [
    "# The DenseNet always only accept 3-channels color images, but our images are the single channel. The code below conversion to 3 channels is done inside the model.\n",
    "# This not consume much RAM like the case if we use np.repeat to create images with 3-channels before we fed the data  to the model\n",
    "# img_input = Input(shape=(64,64,1)) #we defined this variable at the beginning\n",
    "# img_conc = Concatenate()([img_input, img_input, img_input]) #we defined this variable at the beginning\n",
    "# Concatenate duplicates whole input, but puts it into channels, so from one channel it creates 3 channels\n",
    "\n",
    "densenet_conv = DenseNet121(weights='imagenet', include_top=False,input_tensor=img_conc)"
   ]
  },
  {
   "cell_type": "code",
   "execution_count": null,
   "metadata": {
    "colab": {
     "base_uri": "https://localhost:8080/",
     "height": 1189
    },
    "colab_type": "code",
    "executionInfo": {
     "elapsed": 1070140,
     "status": "ok",
     "timestamp": 1556711890411,
     "user": {
      "displayName": "Long Thanh Nguyen",
      "photoUrl": "https://lh5.googleusercontent.com/-7qAqAOzYjhQ/AAAAAAAAAAI/AAAAAAACP8Y/-XIfAJwWP7o/s64/photo.jpg",
      "userId": "01317603220746098981"
     },
     "user_tz": -120
    },
    "id": "WDVgwXRaJ3Z2",
    "outputId": "fd1fe334-a23e-4066-ff4e-40632f53c251"
   },
   "outputs": [
    {
     "name": "stdout",
     "output_type": "stream",
     "text": [
      "WARNING:tensorflow:From /usr/local/lib/python3.6/dist-packages/keras/backend/tensorflow_backend.py:3445: calling dropout (from tensorflow.python.ops.nn_ops) with keep_prob is deprecated and will be removed in a future version.\n",
      "Instructions for updating:\n",
      "Please use `rate` instead of `keep_prob`. Rate should be set to `rate = 1 - keep_prob`.\n",
      "_________________________________________________________________\n",
      "Layer (type)                 Output Shape              Param #   \n",
      "=================================================================\n",
      "densenet121 (Model)          (None, 2, 2, 1024)        7037504   \n",
      "_________________________________________________________________\n",
      "flatten_1 (Flatten)          (None, 4096)              0         \n",
      "_________________________________________________________________\n",
      "dense_1 (Dense)              (None, 256)               1048832   \n",
      "_________________________________________________________________\n",
      "dropout_1 (Dropout)          (None, 256)               0         \n",
      "_________________________________________________________________\n",
      "dense_2 (Dense)              (None, 39)                10023     \n",
      "=================================================================\n",
      "Total params: 8,096,359\n",
      "Trainable params: 8,012,711\n",
      "Non-trainable params: 83,648\n",
      "_________________________________________________________________\n",
      "WARNING:tensorflow:From /usr/local/lib/python3.6/dist-packages/tensorflow/python/ops/math_ops.py:3066: to_int32 (from tensorflow.python.ops.math_ops) is deprecated and will be removed in a future version.\n",
      "Instructions for updating:\n",
      "Use tf.cast instead.\n",
      "Train on 145565 samples, validate on 48521 samples\n",
      "Epoch 1/3\n",
      "145565/145565 [==============================] - 213s 1ms/step - loss: 0.7416 - acc: 0.7821 - val_loss: 0.5127 - val_acc: 0.8272\n",
      "Epoch 2/3\n",
      "145565/145565 [==============================] - 181s 1ms/step - loss: 0.4733 - acc: 0.8381 - val_loss: 0.5138 - val_acc: 0.8420\n",
      "Epoch 3/3\n",
      "145565/145565 [==============================] - 181s 1ms/step - loss: 0.3982 - acc: 0.8578 - val_loss: 0.5027 - val_acc: 0.8408\n",
      "Training the Plankton dataset took 585.4450540542603 seconds.\n"
     ]
    },
    {
     "data": {
      "image/png": "[encoded data removed]",
      "text/plain": [
       "<Figure size 432x288 with 1 Axes>"
      ]
     },
     "metadata": {
      "tags": []
     },
     "output_type": "display_data"
    },
    {
     "data": {
      "image/png": "[encoded data removed]",
      "text/plain": [
       "<Figure size 432x288 with 1 Axes>"
      ]
     },
     "metadata": {
      "tags": []
     },
     "output_type": "display_data"
    },
    {
     "name": "stdout",
     "output_type": "stream",
     "text": [
      "48521/48521 [==============================] - 19s 393us/step\n",
      "test acc: 0.8408524144516668\n",
      "test loss: 0.5040090836519922\n"
     ]
    }
   ],
   "source": [
    "# Create the model\n",
    "model = Sequential()\n",
    " \n",
    "# Add the vgg convolutional base model\n",
    "model.add(densenet_conv)\n",
    "\n",
    "# Add new layers\n",
    "model.add(Flatten())\n",
    "model.add(Dense(256, activation='relu')) #we add dense layer so that the model can learn more complex functions and classify for better results.\n",
    "model.add(Dropout(0.5)) #to avoid overfitting\n",
    "model.add(Dense(N_CLASSES, activation='softmax')) #final layer with softmax activation\n",
    " \n",
    "# Show a summary of the model. Check the number of trainable parameters\n",
    "model.summary()\n",
    "\n",
    "# Compile the model\n",
    "model.compile(loss='categorical_crossentropy',\n",
    "              optimizer=RMSprop(lr=1e-4),\n",
    "              metrics=['acc'])\n",
    "# Train the model\n",
    "start = time.time()\n",
    "history = model.fit(X_train, y_train, batch_size = BATCH_SIZE2, validation_data = (X_val, y_val), epochs = N_EPOCHS, class_weight=class_weight, verbose = 1)\n",
    "print(\"Training the Plankton dataset took {} seconds.\".format(time.time() - start))\n",
    "# Save the model\n",
    "model.save('DenseNet121.h5')\n",
    "\n",
    "acc = history.history['acc']\n",
    "val_acc = history.history['val_acc']\n",
    "loss = history.history['loss']\n",
    "val_loss = history.history['val_loss']\n",
    " \n",
    "epochs = range(len(acc))\n",
    " \n",
    "plt.plot(epochs, acc, 'b', label='Training acc')\n",
    "plt.plot(epochs, val_acc, 'r', label='Testing acc')\n",
    "plt.title('Training and testing accuracy')\n",
    "plt.legend()\n",
    " \n",
    "plt.figure()\n",
    " \n",
    "plt.plot(epochs, loss, 'b', label='Training loss')\n",
    "plt.plot(epochs, val_loss, 'r', label='Testing loss')\n",
    "plt.title('Training and testing loss')\n",
    "plt.legend()\n",
    " \n",
    "plt.show()\n",
    "\n",
    "# Evaluate on the test sets\n",
    "test_loss, test_acc = model.evaluate(x = X_test, y = y_test, batch_size = BATCH_SIZE2)\n",
    "print('test acc:', test_acc)\n",
    "print('test loss:', test_loss)\n"
   ]
  },
  {
   "cell_type": "code",
   "execution_count": null,
   "metadata": {
    "colab": {},
    "colab_type": "code",
    "id": "MhMcC5he_7xI"
   },
   "outputs": [],
   "source": [
    "# Get the output of train_set\n",
    "X_output = model.predict(X)\n",
    "np.savetxt(\"drive/My Drive/EURECOM/Semester 2 - SPRING 2019/06 AML - Algorithmic Machine Learning/Lab03 - Plankton Challenge/flowcam/X_output.csv\", X_output, delimiter=\",\")"
   ]
  },
  {
   "cell_type": "code",
   "execution_count": null,
   "metadata": {
    "colab": {
     "base_uri": "https://localhost:8080/",
     "height": 899
    },
    "colab_type": "code",
    "executionInfo": {
     "elapsed": 143536,
     "status": "ok",
     "timestamp": 1556712195093,
     "user": {
      "displayName": "Long Thanh Nguyen",
      "photoUrl": "https://lh5.googleusercontent.com/-7qAqAOzYjhQ/AAAAAAAAAAI/AAAAAAACP8Y/-XIfAJwWP7o/s64/photo.jpg",
      "userId": "01317603220746098981"
     },
     "user_tz": -120
    },
    "id": "K2MckmVlFVDW",
    "outputId": "5ad0efe3-cb0c-4391-e9f8-2803f7704dc1"
   },
   "outputs": [
    {
     "name": "stdout",
     "output_type": "stream",
     "text": [
      "              precision    recall  f1-score   support\n",
      "\n",
      "           0       0.84      0.58      0.69        84\n",
      "           1       1.00      0.21      0.35        19\n",
      "           2       0.00      0.00      0.00         2\n",
      "           3       0.75      0.24      0.36        38\n",
      "           4       0.83      0.74      0.78       391\n",
      "           5       0.89      0.69      0.78       172\n",
      "           6       0.96      0.89      0.92       580\n",
      "           7       0.76      0.83      0.79      1061\n",
      "           8       0.78      0.45      0.57        77\n",
      "           9       1.00      0.13      0.23        23\n",
      "          10       0.96      0.68      0.80       112\n",
      "          11       0.71      0.21      0.32       116\n",
      "          12       0.67      0.64      0.65       128\n",
      "          13       0.00      0.00      0.00        12\n",
      "          14       0.93      0.94      0.93      2827\n",
      "          15       1.00      0.21      0.34        24\n",
      "          16       0.40      0.27      0.32        30\n",
      "          17       0.80      0.77      0.78       423\n",
      "          18       0.73      0.22      0.33        51\n",
      "          19       0.89      0.51      0.65        76\n",
      "          20       0.82      0.43      0.56       425\n",
      "          21       0.40      0.10      0.16        61\n",
      "          22       0.94      0.90      0.92      1032\n",
      "          23       0.87      0.65      0.74       453\n",
      "          24       0.95      0.59      0.73       128\n",
      "          25       0.00      0.00      0.00         6\n",
      "          26       0.70      0.34      0.46       381\n",
      "          27       0.99      0.88      0.93      1520\n",
      "          28       0.00      0.00      0.00        37\n",
      "          29       0.61      0.48      0.53       136\n",
      "          30       0.84      0.95      0.89     27692\n",
      "          31       0.70      0.43      0.53       118\n",
      "          32       0.88      0.49      0.63      5420\n",
      "          33       0.53      0.36      0.43       667\n",
      "          34       0.77      0.91      0.84      1885\n",
      "          35       0.69      0.56      0.62       370\n",
      "          36       0.69      0.72      0.71       804\n",
      "          37       0.83      0.74      0.78      1131\n",
      "          38       0.00      0.00      0.00         9\n",
      "\n",
      "   micro avg       0.84      0.84      0.84     48521\n",
      "   macro avg       0.70      0.48      0.54     48521\n",
      "weighted avg       0.84      0.84      0.83     48521\n",
      "\n"
     ]
    },
    {
     "name": "stderr",
     "output_type": "stream",
     "text": [
      "/usr/local/lib/python3.6/dist-packages/sklearn/metrics/classification.py:1143: UndefinedMetricWarning: Precision and F-score are ill-defined and being set to 0.0 in labels with no predicted samples.\n",
      "  'precision', 'predicted', average, warn_for)\n"
     ]
    }
   ],
   "source": [
    "#  Classification Report\n",
    "y_predicted = model.predict(X_test)\n",
    "predicted  = y_predicted.argmax(axis = 1)\n",
    "y_test = y_test.argmax(axis = 1)\n",
    "report = classification_report(y_test, predicted)\n",
    "print(report)"
   ]
  },
  {
   "cell_type": "code",
   "execution_count": null,
   "metadata": {
    "colab": {},
    "colab_type": "code",
    "id": "6MPe5yyaJ3Z4"
   },
   "outputs": [],
   "source": [
    "np.savetxt(\"drive/My Drive/EURECOM/Semester 2 - SPRING 2019/06 AML - Algorithmic Machine Learning/Lab03 - Plankton Challenge/flowcam/prediction.csv\", y_predicted, delimiter=\",\")"
   ]
  },
  {
   "cell_type": "code",
   "execution_count": null,
   "metadata": {
    "colab": {},
    "colab_type": "code",
    "id": "mZvDcCr77e5q"
   },
   "outputs": [],
   "source": [
    "#  Randomly pick indice of 10 images from test sets to perform\n",
    "idx = np.random.randint(0, X_test.shape[0], 10)"
   ]
  },
  {
   "cell_type": "code",
   "execution_count": null,
   "metadata": {
    "colab": {
     "base_uri": "https://localhost:8080/",
     "height": 35
    },
    "colab_type": "code",
    "executionInfo": {
     "elapsed": 137459,
     "status": "ok",
     "timestamp": 1556712201291,
     "user": {
      "displayName": "Long Thanh Nguyen",
      "photoUrl": "https://lh5.googleusercontent.com/-7qAqAOzYjhQ/AAAAAAAAAAI/AAAAAAACP8Y/-XIfAJwWP7o/s64/photo.jpg",
      "userId": "01317603220746098981"
     },
     "user_tz": -120
    },
    "id": "dxPypdn88G23",
    "outputId": "7f43d725-2d2b-4e12-93d3-9219d1e84b19"
   },
   "outputs": [
    {
     "data": {
      "text/plain": [
       "array([36, 34, 30,  6, 30, 30, 30, 30, 14, 30])"
      ]
     },
     "execution_count": 37,
     "metadata": {
      "tags": []
     },
     "output_type": "execute_result"
    }
   ],
   "source": [
    "# Predict class of these 10 images\n",
    "Y_test_pred = model.predict(X_test[idx])\n",
    "preds = Y_test_pred.argmax(axis = 1)\n",
    "preds"
   ]
  },
  {
   "cell_type": "code",
   "execution_count": null,
   "metadata": {
    "colab": {
     "base_uri": "https://localhost:8080/",
     "height": 35
    },
    "colab_type": "code",
    "executionInfo": {
     "elapsed": 135916,
     "status": "ok",
     "timestamp": 1556712201301,
     "user": {
      "displayName": "Long Thanh Nguyen",
      "photoUrl": "https://lh5.googleusercontent.com/-7qAqAOzYjhQ/AAAAAAAAAAI/AAAAAAACP8Y/-XIfAJwWP7o/s64/photo.jpg",
      "userId": "01317603220746098981"
     },
     "user_tz": -120
    },
    "id": "B1A2NKnN8Mq2",
    "outputId": "60822566-d575-4c40-800c-6bfed26abbb2"
   },
   "outputs": [
    {
     "data": {
      "text/plain": [
       "array([36, 34, 30,  6, 30, 30, 30, 32, 14, 30])"
      ]
     },
     "execution_count": 38,
     "metadata": {
      "tags": []
     },
     "output_type": "execute_result"
    }
   ],
   "source": [
    "# Get true class of these 10 images\n",
    "true = y_test[idx]\n",
    "true"
   ]
  },
  {
   "cell_type": "code",
   "execution_count": null,
   "metadata": {
    "colab": {
     "base_uri": "https://localhost:8080/",
     "height": 251
    },
    "colab_type": "code",
    "executionInfo": {
     "elapsed": 134615,
     "status": "ok",
     "timestamp": 1556712201306,
     "user": {
      "displayName": "Long Thanh Nguyen",
      "photoUrl": "https://lh5.googleusercontent.com/-7qAqAOzYjhQ/AAAAAAAAAAI/AAAAAAACP8Y/-XIfAJwWP7o/s64/photo.jpg",
      "userId": "01317603220746098981"
     },
     "user_tz": -120
    },
    "id": "nYo7wnwf9Bst",
    "outputId": "97ce7d9e-ae87-4723-edfc-d034b2e0facd"
   },
   "outputs": [
    {
     "name": "stdout",
     "output_type": "stream",
     "text": [
      "True class: detritus\n",
      "Predicted class: detritus\n"
     ]
    },
    {
     "data": {
      "image/png": "[encoded data removed]",
      "text/plain": [
       "<Figure size 1152x216 with 1 Axes>"
      ]
     },
     "metadata": {
      "tags": []
     },
     "output_type": "display_data"
    }
   ],
   "source": [
    " # Display an image classified wrongly\n",
    "f = plt.figure(figsize=(16,3))\n",
    "sub1 = plt.subplot(1,4,1)\n",
    "plt.imshow(X_test[idx[5]][:,:,0], cmap='binary')\n",
    "print(\"True class: {}\".format(label_names[true[5]]))\n",
    "print(\"Predicted class: {}\".format(label_names[preds[5]]))"
   ]
  },
  {
   "cell_type": "code",
   "execution_count": null,
   "metadata": {
    "colab": {
     "base_uri": "https://localhost:8080/",
     "height": 251
    },
    "colab_type": "code",
    "executionInfo": {
     "elapsed": 132806,
     "status": "ok",
     "timestamp": 1556712201611,
     "user": {
      "displayName": "Long Thanh Nguyen",
      "photoUrl": "https://lh5.googleusercontent.com/-7qAqAOzYjhQ/AAAAAAAAAAI/AAAAAAACP8Y/-XIfAJwWP7o/s64/photo.jpg",
      "userId": "01317603220746098981"
     },
     "user_tz": -120
    },
    "id": "_ukHPVjk9g9z",
    "outputId": "e8330f08-631a-4b92-ee59-0e04be4c9863"
   },
   "outputs": [
    {
     "name": "stdout",
     "output_type": "stream",
     "text": [
      "True class: nauplii (Crustacea)\n",
      "Predicted class: nauplii (Crustacea)\n"
     ]
    },
    {
     "data": {
      "image/png": "[encoded data removed]",
      "text/plain": [
       "<Figure size 1152x216 with 1 Axes>"
      ]
     },
     "metadata": {
      "tags": []
     },
     "output_type": "display_data"
    }
   ],
   "source": [
    " # Display an image classified right\n",
    "f = plt.figure(figsize=(16,3))\n",
    "sub1 = plt.subplot(1,4,1)\n",
    "plt.imshow(X_test[idx[1]][:,:,0], cmap='binary')\n",
    "print(\"True class: {}\".format(label_names[true[1]]))\n",
    "print(\"Predicted class: {}\".format(label_names[preds[1]]))"
   ]
  },
  {
   "cell_type": "markdown",
   "metadata": {
    "colab_type": "text",
    "id": "GIl2LLiDCe1Y"
   },
   "source": [
    "## RESULTS on DEEP-LEARNING"
   ]
  },
  {
   "cell_type": "markdown",
   "metadata": {
    "colab_type": "text",
    "id": "HdKGG7ezMj5x"
   },
   "source": [
    "<div class=\"alert alert-info\">\n",
    "The training procedures are performed setting the number of epochs for training of 3 and using a batch size with 256 observations at each iteration and fixing the learning rate to 0.001. <p>\n",
    "\n",
    "With this dataset, the batch size of 256 is the best fit because if we choose the batch size smaller like 128 or 64 or even smaller, the sessions were crashed due to the RAM size of only 12G.  In general, Larger batch sizes result in faster progress in training, but don't always converge as fast. Smaller batch sizes train slower but can converge faster. That's why we did not choose the batch size larger like 512. <p>\n",
    "\n",
    "In general, the models improve with more epochs of training, to a point. We conducted an experiment and saw that this point was 3. <p>\n",
    "\n",
    "We know that if the learning rate is too large, the model can hardly reach the minimum value. But if it is too small, the model can be stuck in a local minimum fast and cannot find out desirable point anymore. We tried the experience and 0.001 was the most suitable. <p>\n",
    "</div>"
   ]
  },
  {
   "cell_type": "markdown",
   "metadata": {
    "colab_type": "text",
    "id": "3xbCGn32NVXG"
   },
   "source": [
    "<div class=\"alert alert-info\">\n",
    "Our model gets f1-score 0.54 for test set. As you see cells above, f1-score for some classes is not high even 0.00  because of the number of their samples not much, for instance, 'tempChaetoceros danicus': 0.00, 'Cyttarocylis': 0.16, 'Xystonellidae'': 0.00\n",
    "</div>"
   ]
  },
  {
   "cell_type": "markdown",
   "metadata": {},
   "source": [
    "# Features engineering with XGBOOST"
   ]
  },
  {
   "cell_type": "markdown",
   "metadata": {
    "colab_type": "text",
    "id": "Fm2G9LINT0rb"
   },
   "source": [
    "<div class=\"alert alert-info\">\n",
    "We assume that the file <b>features_native.csv</b>, which contained the morphological handcrafted features computed by ZooProcess. The <b>handcrafted features</b> in this case will be considered as they were extracted by experts with their specific domain knowledge and would be more sophisticated and if we could use it that would help to improve the accuracy of our model. <p>\n",
    "\n",
    "The experiment will have two parts: <p>\n",
    "- <b>XGBOOST</b> on those <b>handcrafted</b> features only and compared with the Deep Learning outcome. <p> \n",
    "- Second, We consider it will be an <b>ensemble learning</b> experiment whenever we will use the outcomes from Deep-Learning on image only, putted together with the <b>handcrafted</b> features as a input on <b>XGBOOST</b> model in order to archive a better outcome. <p>\n",
    "</div>"
   ]
  },
  {
   "cell_type": "code",
   "execution_count": 1,
   "metadata": {
    "colab": {},
    "colab_type": "code",
    "id": "LDy0GcViT0re"
   },
   "outputs": [],
   "source": [
    "import pandas as pd\n",
    "import numpy as np\n",
    "\n",
    "#from scipy.stats import uniform, randint\n",
    "import scipy.stats as stats\n",
    "\n",
    "import xgboost as xgb\n",
    "from xgboost import XGBClassifier\n",
    "from sklearn import preprocessing\n",
    "\n",
    "from sklearn.metrics import f1_score\n",
    "#from sklearn.cross_validation import KFold\n",
    "from sklearn.model_selection import GridSearchCV, RandomizedSearchCV, KFold\n",
    "\n",
    "import warnings\n",
    "warnings.filterwarnings('ignore')\n",
    "\n",
    "import matplotlib.pyplot as plt\n",
    "from matplotlib.colors import ListedColormap\n",
    "import seaborn as sns\n",
    "%matplotlib inline\n",
    "plt.style.use(style='ggplot')\n",
    "plt.rcParams['figure.figsize'] = (10, 6)"
   ]
  },
  {
   "cell_type": "code",
   "execution_count": 2,
   "metadata": {
    "colab": {},
    "colab_type": "code",
    "id": "YnT94q7TT0rf"
   },
   "outputs": [],
   "source": [
    "# Get the data \n",
    "url_meta = 'https://bitbucket.org/longng/plankton-image-classification/downloads/meta.csv'\n",
    "url_features = 'https://bitbucket.org/longng/plankton-image-classification/downloads/features_native.csv'   \n",
    "url_DLoutput = 'https://bitbucket.org/longng/plankton-image-classification/downloads/X_output.csv'\n",
    "url_classref = 'https://bitbucket.org/longng/plankton-image-classification/downloads/export_dataframe.csv'"
   ]
  },
  {
   "cell_type": "code",
   "execution_count": 3,
   "metadata": {
    "colab": {
     "base_uri": "https://localhost:8080/",
     "height": 35
    },
    "colab_type": "code",
    "executionInfo": {
     "elapsed": 21654,
     "status": "ok",
     "timestamp": 1556821251115,
     "user": {
      "displayName": "Long Thanh Nguyen",
      "photoUrl": "https://lh5.googleusercontent.com/-7qAqAOzYjhQ/AAAAAAAAAAI/AAAAAAACP8Y/-XIfAJwWP7o/s64/photo.jpg",
      "userId": "01317603220746098981"
     },
     "user_tz": -120
    },
    "id": "fVTLKlO249gD",
    "outputId": "ca7d007b-940c-42f5-c1bd-3e27fdb02f61"
   },
   "outputs": [
    {
     "data": {
      "text/plain": [
       "((243610, 65), (242607, 39), (242607, 2))"
      ]
     },
     "execution_count": 3,
     "metadata": {},
     "output_type": "execute_result"
    }
   ],
   "source": [
    "df = pd.read_csv(url_features) #hand crafted features\n",
    "# dftemp = pd.read_csv(url_meta)\n",
    "dfDLoutput = pd.read_csv(url_DLoutput, header=None) #result from Deep Learning Model\n",
    "dfclassre = pd.read_csv(url_classref) #encoded classes with objid\n",
    "df.shape, dfDLoutput.shape, dfclassre.shape"
   ]
  },
  {
   "cell_type": "code",
   "execution_count": 4,
   "metadata": {
    "colab": {
     "base_uri": "https://localhost:8080/",
     "height": 256
    },
    "colab_type": "code",
    "executionInfo": {
     "elapsed": 21623,
     "status": "ok",
     "timestamp": 1556821251125,
     "user": {
      "displayName": "Long Thanh Nguyen",
      "photoUrl": "https://lh5.googleusercontent.com/-7qAqAOzYjhQ/AAAAAAAAAAI/AAAAAAACP8Y/-XIfAJwWP7o/s64/photo.jpg",
      "userId": "01317603220746098981"
     },
     "user_tz": -120
    },
    "id": "dDiCvl78s2P2",
    "outputId": "d36cf0ba-4428-44d2-f18a-cd01e4246699"
   },
   "outputs": [
    {
     "data": {
      "text/html": [
       "<div>\n",
       "<style scoped>\n",
       "    .dataframe tbody tr th:only-of-type {\n",
       "        vertical-align: middle;\n",
       "    }\n",
       "\n",
       "    .dataframe tbody tr th {\n",
       "        vertical-align: top;\n",
       "    }\n",
       "\n",
       "    .dataframe thead th {\n",
       "        text-align: right;\n",
       "    }\n",
       "</style>\n",
       "<table border=\"1\" class=\"dataframe\">\n",
       "  <thead>\n",
       "    <tr style=\"text-align: right;\">\n",
       "      <th></th>\n",
       "      <th>objid</th>\n",
       "      <th>area</th>\n",
       "      <th>meanimagegrey</th>\n",
       "      <th>mean</th>\n",
       "      <th>stddev</th>\n",
       "      <th>min</th>\n",
       "      <th>perim.</th>\n",
       "      <th>width</th>\n",
       "      <th>height</th>\n",
       "      <th>major</th>\n",
       "      <th>...</th>\n",
       "      <th>symetriev_area</th>\n",
       "      <th>nb1_area</th>\n",
       "      <th>nb2_area</th>\n",
       "      <th>nb3_area</th>\n",
       "      <th>nb1_range</th>\n",
       "      <th>nb2_range</th>\n",
       "      <th>nb3_range</th>\n",
       "      <th>median_mean</th>\n",
       "      <th>median_mean_range</th>\n",
       "      <th>skeleton_area</th>\n",
       "    </tr>\n",
       "  </thead>\n",
       "  <tbody>\n",
       "    <tr>\n",
       "      <th>0</th>\n",
       "      <td>32756761.0</td>\n",
       "      <td>6653.0</td>\n",
       "      <td>167.18</td>\n",
       "      <td>205.76</td>\n",
       "      <td>65.341</td>\n",
       "      <td>85</td>\n",
       "      <td>779.66</td>\n",
       "      <td>109</td>\n",
       "      <td>123</td>\n",
       "      <td>147.8</td>\n",
       "      <td>...</td>\n",
       "      <td>0.005988</td>\n",
       "      <td>0.017964</td>\n",
       "      <td>0.017964</td>\n",
       "      <td>0.059880</td>\n",
       "      <td>0.017647</td>\n",
       "      <td>0.017647</td>\n",
       "      <td>0.058824</td>\n",
       "      <td>47</td>\n",
       "      <td>0.276471</td>\n",
       "      <td>91.778443</td>\n",
       "    </tr>\n",
       "    <tr>\n",
       "      <th>1</th>\n",
       "      <td>32759364.0</td>\n",
       "      <td>1275.0</td>\n",
       "      <td>165.83</td>\n",
       "      <td>234.29</td>\n",
       "      <td>38.562</td>\n",
       "      <td>98</td>\n",
       "      <td>186.99</td>\n",
       "      <td>33</td>\n",
       "      <td>65</td>\n",
       "      <td>82.4</td>\n",
       "      <td>...</td>\n",
       "      <td>0.012048</td>\n",
       "      <td>0.024096</td>\n",
       "      <td>0.012048</td>\n",
       "      <td>0.006024</td>\n",
       "      <td>0.025478</td>\n",
       "      <td>0.012739</td>\n",
       "      <td>0.006369</td>\n",
       "      <td>21</td>\n",
       "      <td>0.133758</td>\n",
       "      <td>18.030120</td>\n",
       "    </tr>\n",
       "    <tr>\n",
       "      <th>2</th>\n",
       "      <td>32758055.0</td>\n",
       "      <td>2416.0</td>\n",
       "      <td>167.92</td>\n",
       "      <td>239.15</td>\n",
       "      <td>25.590</td>\n",
       "      <td>94</td>\n",
       "      <td>276.33</td>\n",
       "      <td>26</td>\n",
       "      <td>115</td>\n",
       "      <td>138.8</td>\n",
       "      <td>...</td>\n",
       "      <td>0.017857</td>\n",
       "      <td>0.011905</td>\n",
       "      <td>0.053571</td>\n",
       "      <td>0.107143</td>\n",
       "      <td>0.012422</td>\n",
       "      <td>0.055901</td>\n",
       "      <td>0.111801</td>\n",
       "      <td>16</td>\n",
       "      <td>0.099379</td>\n",
       "      <td>24.892857</td>\n",
       "    </tr>\n",
       "    <tr>\n",
       "      <th>3</th>\n",
       "      <td>32758988.0</td>\n",
       "      <td>1433.0</td>\n",
       "      <td>167.34</td>\n",
       "      <td>248.79</td>\n",
       "      <td>20.933</td>\n",
       "      <td>107</td>\n",
       "      <td>388.40</td>\n",
       "      <td>126</td>\n",
       "      <td>117</td>\n",
       "      <td>151.2</td>\n",
       "      <td>...</td>\n",
       "      <td>0.005988</td>\n",
       "      <td>0.000000</td>\n",
       "      <td>0.000000</td>\n",
       "      <td>0.023952</td>\n",
       "      <td>0.000000</td>\n",
       "      <td>0.000000</td>\n",
       "      <td>0.027027</td>\n",
       "      <td>6</td>\n",
       "      <td>0.040541</td>\n",
       "      <td>99.365269</td>\n",
       "    </tr>\n",
       "    <tr>\n",
       "      <th>4</th>\n",
       "      <td>32760598.0</td>\n",
       "      <td>1650.0</td>\n",
       "      <td>166.89</td>\n",
       "      <td>250.42</td>\n",
       "      <td>14.603</td>\n",
       "      <td>124</td>\n",
       "      <td>751.96</td>\n",
       "      <td>66</td>\n",
       "      <td>239</td>\n",
       "      <td>278.7</td>\n",
       "      <td>...</td>\n",
       "      <td>0.017964</td>\n",
       "      <td>0.029940</td>\n",
       "      <td>0.083832</td>\n",
       "      <td>0.059880</td>\n",
       "      <td>0.038168</td>\n",
       "      <td>0.106870</td>\n",
       "      <td>0.076336</td>\n",
       "      <td>5</td>\n",
       "      <td>0.038168</td>\n",
       "      <td>109.449102</td>\n",
       "    </tr>\n",
       "  </tbody>\n",
       "</table>\n",
       "<p>5 rows × 65 columns</p>\n",
       "</div>"
      ],
      "text/plain": [
       "        objid    area  meanimagegrey    mean  stddev  min  perim.  width  \\\n",
       "0  32756761.0  6653.0         167.18  205.76  65.341   85  779.66    109   \n",
       "1  32759364.0  1275.0         165.83  234.29  38.562   98  186.99     33   \n",
       "2  32758055.0  2416.0         167.92  239.15  25.590   94  276.33     26   \n",
       "3  32758988.0  1433.0         167.34  248.79  20.933  107  388.40    126   \n",
       "4  32760598.0  1650.0         166.89  250.42  14.603  124  751.96     66   \n",
       "\n",
       "   height  major      ...        symetriev_area  nb1_area  nb2_area  nb3_area  \\\n",
       "0     123  147.8      ...              0.005988  0.017964  0.017964  0.059880   \n",
       "1      65   82.4      ...              0.012048  0.024096  0.012048  0.006024   \n",
       "2     115  138.8      ...              0.017857  0.011905  0.053571  0.107143   \n",
       "3     117  151.2      ...              0.005988  0.000000  0.000000  0.023952   \n",
       "4     239  278.7      ...              0.017964  0.029940  0.083832  0.059880   \n",
       "\n",
       "   nb1_range  nb2_range  nb3_range  median_mean  median_mean_range  \\\n",
       "0   0.017647   0.017647   0.058824           47           0.276471   \n",
       "1   0.025478   0.012739   0.006369           21           0.133758   \n",
       "2   0.012422   0.055901   0.111801           16           0.099379   \n",
       "3   0.000000   0.000000   0.027027            6           0.040541   \n",
       "4   0.038168   0.106870   0.076336            5           0.038168   \n",
       "\n",
       "   skeleton_area  \n",
       "0      91.778443  \n",
       "1      18.030120  \n",
       "2      24.892857  \n",
       "3      99.365269  \n",
       "4     109.449102  \n",
       "\n",
       "[5 rows x 65 columns]"
      ]
     },
     "execution_count": 4,
     "metadata": {},
     "output_type": "execute_result"
    }
   ],
   "source": [
    "df.head()"
   ]
  },
  {
   "cell_type": "code",
   "execution_count": 5,
   "metadata": {
    "colab": {
     "base_uri": "https://localhost:8080/",
     "height": 256
    },
    "colab_type": "code",
    "executionInfo": {
     "elapsed": 21596,
     "status": "ok",
     "timestamp": 1556821251128,
     "user": {
      "displayName": "Long Thanh Nguyen",
      "photoUrl": "https://lh5.googleusercontent.com/-7qAqAOzYjhQ/AAAAAAAAAAI/AAAAAAACP8Y/-XIfAJwWP7o/s64/photo.jpg",
      "userId": "01317603220746098981"
     },
     "user_tz": -120
    },
    "id": "tGZWidxAT0rt",
    "outputId": "c0fbfa0d-0498-4d86-9bb6-016c45f769f3"
   },
   "outputs": [
    {
     "data": {
      "text/html": [
       "<div>\n",
       "<style scoped>\n",
       "    .dataframe tbody tr th:only-of-type {\n",
       "        vertical-align: middle;\n",
       "    }\n",
       "\n",
       "    .dataframe tbody tr th {\n",
       "        vertical-align: top;\n",
       "    }\n",
       "\n",
       "    .dataframe thead th {\n",
       "        text-align: right;\n",
       "    }\n",
       "</style>\n",
       "<table border=\"1\" class=\"dataframe\">\n",
       "  <thead>\n",
       "    <tr style=\"text-align: right;\">\n",
       "      <th></th>\n",
       "      <th>0</th>\n",
       "      <th>1</th>\n",
       "      <th>2</th>\n",
       "      <th>3</th>\n",
       "      <th>4</th>\n",
       "      <th>5</th>\n",
       "      <th>6</th>\n",
       "      <th>7</th>\n",
       "      <th>8</th>\n",
       "      <th>9</th>\n",
       "      <th>...</th>\n",
       "      <th>29</th>\n",
       "      <th>30</th>\n",
       "      <th>31</th>\n",
       "      <th>32</th>\n",
       "      <th>33</th>\n",
       "      <th>34</th>\n",
       "      <th>35</th>\n",
       "      <th>36</th>\n",
       "      <th>37</th>\n",
       "      <th>38</th>\n",
       "    </tr>\n",
       "  </thead>\n",
       "  <tbody>\n",
       "    <tr>\n",
       "      <th>0</th>\n",
       "      <td>4.225924e-04</td>\n",
       "      <td>5.353846e-06</td>\n",
       "      <td>4.398931e-07</td>\n",
       "      <td>1.035600e-04</td>\n",
       "      <td>3.435937e-04</td>\n",
       "      <td>2.287104e-03</td>\n",
       "      <td>4.355395e-04</td>\n",
       "      <td>3.163126e-02</td>\n",
       "      <td>1.493929e-04</td>\n",
       "      <td>2.174154e-04</td>\n",
       "      <td>...</td>\n",
       "      <td>1.646541e-04</td>\n",
       "      <td>0.216345</td>\n",
       "      <td>2.472599e-04</td>\n",
       "      <td>1.547790e-01</td>\n",
       "      <td>3.606438e-03</td>\n",
       "      <td>5.748483e-01</td>\n",
       "      <td>3.317691e-03</td>\n",
       "      <td>5.535810e-04</td>\n",
       "      <td>2.047741e-04</td>\n",
       "      <td>8.097545e-06</td>\n",
       "    </tr>\n",
       "    <tr>\n",
       "      <th>1</th>\n",
       "      <td>2.933678e-35</td>\n",
       "      <td>0.000000e+00</td>\n",
       "      <td>0.000000e+00</td>\n",
       "      <td>0.000000e+00</td>\n",
       "      <td>3.850884e-34</td>\n",
       "      <td>1.714461e-34</td>\n",
       "      <td>3.218765e-32</td>\n",
       "      <td>5.307083e-34</td>\n",
       "      <td>3.143089e-38</td>\n",
       "      <td>0.000000e+00</td>\n",
       "      <td>...</td>\n",
       "      <td>1.781475e-31</td>\n",
       "      <td>1.000000</td>\n",
       "      <td>1.780250e-33</td>\n",
       "      <td>6.749417e-19</td>\n",
       "      <td>4.423834e-23</td>\n",
       "      <td>1.112021e-28</td>\n",
       "      <td>2.745476e-34</td>\n",
       "      <td>8.658356e-35</td>\n",
       "      <td>1.956806e-31</td>\n",
       "      <td>0.000000e+00</td>\n",
       "    </tr>\n",
       "    <tr>\n",
       "      <th>2</th>\n",
       "      <td>9.539363e-11</td>\n",
       "      <td>4.330447e-13</td>\n",
       "      <td>1.361406e-15</td>\n",
       "      <td>5.001490e-11</td>\n",
       "      <td>1.131744e-09</td>\n",
       "      <td>2.093540e-10</td>\n",
       "      <td>2.082494e-08</td>\n",
       "      <td>1.231566e-08</td>\n",
       "      <td>4.706450e-10</td>\n",
       "      <td>1.471578e-12</td>\n",
       "      <td>...</td>\n",
       "      <td>4.195325e-09</td>\n",
       "      <td>0.012949</td>\n",
       "      <td>2.484652e-09</td>\n",
       "      <td>9.870500e-01</td>\n",
       "      <td>3.086805e-07</td>\n",
       "      <td>1.009055e-07</td>\n",
       "      <td>4.239455e-09</td>\n",
       "      <td>3.761698e-09</td>\n",
       "      <td>6.762800e-10</td>\n",
       "      <td>7.223624e-14</td>\n",
       "    </tr>\n",
       "    <tr>\n",
       "      <th>3</th>\n",
       "      <td>2.947655e-07</td>\n",
       "      <td>2.374578e-07</td>\n",
       "      <td>7.156666e-09</td>\n",
       "      <td>4.608875e-07</td>\n",
       "      <td>1.083095e-05</td>\n",
       "      <td>2.702946e-06</td>\n",
       "      <td>1.076727e-06</td>\n",
       "      <td>1.973584e-06</td>\n",
       "      <td>1.790007e-06</td>\n",
       "      <td>8.922850e-08</td>\n",
       "      <td>...</td>\n",
       "      <td>1.866016e-04</td>\n",
       "      <td>0.770909</td>\n",
       "      <td>5.435576e-07</td>\n",
       "      <td>2.681114e-04</td>\n",
       "      <td>1.553559e-04</td>\n",
       "      <td>1.690853e-05</td>\n",
       "      <td>1.114455e-06</td>\n",
       "      <td>1.539732e-05</td>\n",
       "      <td>9.388768e-04</td>\n",
       "      <td>7.061394e-07</td>\n",
       "    </tr>\n",
       "    <tr>\n",
       "      <th>4</th>\n",
       "      <td>2.350423e-09</td>\n",
       "      <td>7.563250e-12</td>\n",
       "      <td>8.066360e-16</td>\n",
       "      <td>1.054747e-09</td>\n",
       "      <td>2.419430e-09</td>\n",
       "      <td>8.104064e-09</td>\n",
       "      <td>3.573103e-08</td>\n",
       "      <td>1.551049e-08</td>\n",
       "      <td>3.144595e-10</td>\n",
       "      <td>2.239782e-11</td>\n",
       "      <td>...</td>\n",
       "      <td>4.379985e-09</td>\n",
       "      <td>0.752444</td>\n",
       "      <td>4.454556e-09</td>\n",
       "      <td>2.475488e-01</td>\n",
       "      <td>4.824296e-06</td>\n",
       "      <td>1.434474e-06</td>\n",
       "      <td>2.798373e-08</td>\n",
       "      <td>9.952091e-10</td>\n",
       "      <td>4.994712e-09</td>\n",
       "      <td>1.141087e-12</td>\n",
       "    </tr>\n",
       "  </tbody>\n",
       "</table>\n",
       "<p>5 rows × 39 columns</p>\n",
       "</div>"
      ],
      "text/plain": [
       "             0             1             2             3             4   \\\n",
       "0  4.225924e-04  5.353846e-06  4.398931e-07  1.035600e-04  3.435937e-04   \n",
       "1  2.933678e-35  0.000000e+00  0.000000e+00  0.000000e+00  3.850884e-34   \n",
       "2  9.539363e-11  4.330447e-13  1.361406e-15  5.001490e-11  1.131744e-09   \n",
       "3  2.947655e-07  2.374578e-07  7.156666e-09  4.608875e-07  1.083095e-05   \n",
       "4  2.350423e-09  7.563250e-12  8.066360e-16  1.054747e-09  2.419430e-09   \n",
       "\n",
       "             5             6             7             8             9   \\\n",
       "0  2.287104e-03  4.355395e-04  3.163126e-02  1.493929e-04  2.174154e-04   \n",
       "1  1.714461e-34  3.218765e-32  5.307083e-34  3.143089e-38  0.000000e+00   \n",
       "2  2.093540e-10  2.082494e-08  1.231566e-08  4.706450e-10  1.471578e-12   \n",
       "3  2.702946e-06  1.076727e-06  1.973584e-06  1.790007e-06  8.922850e-08   \n",
       "4  8.104064e-09  3.573103e-08  1.551049e-08  3.144595e-10  2.239782e-11   \n",
       "\n",
       "       ...                 29        30            31            32  \\\n",
       "0      ...       1.646541e-04  0.216345  2.472599e-04  1.547790e-01   \n",
       "1      ...       1.781475e-31  1.000000  1.780250e-33  6.749417e-19   \n",
       "2      ...       4.195325e-09  0.012949  2.484652e-09  9.870500e-01   \n",
       "3      ...       1.866016e-04  0.770909  5.435576e-07  2.681114e-04   \n",
       "4      ...       4.379985e-09  0.752444  4.454556e-09  2.475488e-01   \n",
       "\n",
       "             33            34            35            36            37  \\\n",
       "0  3.606438e-03  5.748483e-01  3.317691e-03  5.535810e-04  2.047741e-04   \n",
       "1  4.423834e-23  1.112021e-28  2.745476e-34  8.658356e-35  1.956806e-31   \n",
       "2  3.086805e-07  1.009055e-07  4.239455e-09  3.761698e-09  6.762800e-10   \n",
       "3  1.553559e-04  1.690853e-05  1.114455e-06  1.539732e-05  9.388768e-04   \n",
       "4  4.824296e-06  1.434474e-06  2.798373e-08  9.952091e-10  4.994712e-09   \n",
       "\n",
       "             38  \n",
       "0  8.097545e-06  \n",
       "1  0.000000e+00  \n",
       "2  7.223624e-14  \n",
       "3  7.061394e-07  \n",
       "4  1.141087e-12  \n",
       "\n",
       "[5 rows x 39 columns]"
      ]
     },
     "execution_count": 5,
     "metadata": {},
     "output_type": "execute_result"
    }
   ],
   "source": [
    "#output result from Deep Learning Model\n",
    "dfDLoutput.head()"
   ]
  },
  {
   "cell_type": "code",
   "execution_count": 6,
   "metadata": {
    "colab": {
     "base_uri": "https://localhost:8080/",
     "height": 256
    },
    "colab_type": "code",
    "executionInfo": {
     "elapsed": 21571,
     "status": "ok",
     "timestamp": 1556821251131,
     "user": {
      "displayName": "Long Thanh Nguyen",
      "photoUrl": "https://lh5.googleusercontent.com/-7qAqAOzYjhQ/AAAAAAAAAAI/AAAAAAACP8Y/-XIfAJwWP7o/s64/photo.jpg",
      "userId": "01317603220746098981"
     },
     "user_tz": -120
    },
    "id": "E1K131cmqMhR",
    "outputId": "0b427921-d780-4158-adc8-1d55e72e08b0"
   },
   "outputs": [
    {
     "data": {
      "text/html": [
       "<div>\n",
       "<style scoped>\n",
       "    .dataframe tbody tr th:only-of-type {\n",
       "        vertical-align: middle;\n",
       "    }\n",
       "\n",
       "    .dataframe tbody tr th {\n",
       "        vertical-align: top;\n",
       "    }\n",
       "\n",
       "    .dataframe thead th {\n",
       "        text-align: right;\n",
       "    }\n",
       "</style>\n",
       "<table border=\"1\" class=\"dataframe\">\n",
       "  <thead>\n",
       "    <tr style=\"text-align: right;\">\n",
       "      <th></th>\n",
       "      <th>objidtemp</th>\n",
       "      <th>class</th>\n",
       "      <th>0</th>\n",
       "      <th>1</th>\n",
       "      <th>2</th>\n",
       "      <th>3</th>\n",
       "      <th>4</th>\n",
       "      <th>5</th>\n",
       "      <th>6</th>\n",
       "      <th>7</th>\n",
       "      <th>...</th>\n",
       "      <th>29</th>\n",
       "      <th>30</th>\n",
       "      <th>31</th>\n",
       "      <th>32</th>\n",
       "      <th>33</th>\n",
       "      <th>34</th>\n",
       "      <th>35</th>\n",
       "      <th>36</th>\n",
       "      <th>37</th>\n",
       "      <th>38</th>\n",
       "    </tr>\n",
       "  </thead>\n",
       "  <tbody>\n",
       "    <tr>\n",
       "      <th>0</th>\n",
       "      <td>32756761</td>\n",
       "      <td>30</td>\n",
       "      <td>4.225924e-04</td>\n",
       "      <td>5.353846e-06</td>\n",
       "      <td>4.398931e-07</td>\n",
       "      <td>1.035600e-04</td>\n",
       "      <td>3.435937e-04</td>\n",
       "      <td>2.287104e-03</td>\n",
       "      <td>4.355395e-04</td>\n",
       "      <td>3.163126e-02</td>\n",
       "      <td>...</td>\n",
       "      <td>1.646541e-04</td>\n",
       "      <td>0.216345</td>\n",
       "      <td>2.472599e-04</td>\n",
       "      <td>1.547790e-01</td>\n",
       "      <td>3.606438e-03</td>\n",
       "      <td>5.748483e-01</td>\n",
       "      <td>3.317691e-03</td>\n",
       "      <td>5.535810e-04</td>\n",
       "      <td>2.047741e-04</td>\n",
       "      <td>8.097545e-06</td>\n",
       "    </tr>\n",
       "    <tr>\n",
       "      <th>1</th>\n",
       "      <td>32759364</td>\n",
       "      <td>30</td>\n",
       "      <td>2.933678e-35</td>\n",
       "      <td>0.000000e+00</td>\n",
       "      <td>0.000000e+00</td>\n",
       "      <td>0.000000e+00</td>\n",
       "      <td>3.850884e-34</td>\n",
       "      <td>1.714461e-34</td>\n",
       "      <td>3.218765e-32</td>\n",
       "      <td>5.307083e-34</td>\n",
       "      <td>...</td>\n",
       "      <td>1.781475e-31</td>\n",
       "      <td>1.000000</td>\n",
       "      <td>1.780250e-33</td>\n",
       "      <td>6.749417e-19</td>\n",
       "      <td>4.423834e-23</td>\n",
       "      <td>1.112021e-28</td>\n",
       "      <td>2.745476e-34</td>\n",
       "      <td>8.658356e-35</td>\n",
       "      <td>1.956806e-31</td>\n",
       "      <td>0.000000e+00</td>\n",
       "    </tr>\n",
       "    <tr>\n",
       "      <th>2</th>\n",
       "      <td>32758055</td>\n",
       "      <td>20</td>\n",
       "      <td>9.539363e-11</td>\n",
       "      <td>4.330447e-13</td>\n",
       "      <td>1.361406e-15</td>\n",
       "      <td>5.001490e-11</td>\n",
       "      <td>1.131744e-09</td>\n",
       "      <td>2.093540e-10</td>\n",
       "      <td>2.082494e-08</td>\n",
       "      <td>1.231566e-08</td>\n",
       "      <td>...</td>\n",
       "      <td>4.195325e-09</td>\n",
       "      <td>0.012949</td>\n",
       "      <td>2.484652e-09</td>\n",
       "      <td>9.870500e-01</td>\n",
       "      <td>3.086805e-07</td>\n",
       "      <td>1.009055e-07</td>\n",
       "      <td>4.239455e-09</td>\n",
       "      <td>3.761698e-09</td>\n",
       "      <td>6.762800e-10</td>\n",
       "      <td>7.223624e-14</td>\n",
       "    </tr>\n",
       "    <tr>\n",
       "      <th>3</th>\n",
       "      <td>32758988</td>\n",
       "      <td>37</td>\n",
       "      <td>2.947655e-07</td>\n",
       "      <td>2.374578e-07</td>\n",
       "      <td>7.156666e-09</td>\n",
       "      <td>4.608875e-07</td>\n",
       "      <td>1.083095e-05</td>\n",
       "      <td>2.702946e-06</td>\n",
       "      <td>1.076727e-06</td>\n",
       "      <td>1.973584e-06</td>\n",
       "      <td>...</td>\n",
       "      <td>1.866016e-04</td>\n",
       "      <td>0.770909</td>\n",
       "      <td>5.435576e-07</td>\n",
       "      <td>2.681114e-04</td>\n",
       "      <td>1.553559e-04</td>\n",
       "      <td>1.690853e-05</td>\n",
       "      <td>1.114455e-06</td>\n",
       "      <td>1.539732e-05</td>\n",
       "      <td>9.388768e-04</td>\n",
       "      <td>7.061394e-07</td>\n",
       "    </tr>\n",
       "    <tr>\n",
       "      <th>4</th>\n",
       "      <td>32760598</td>\n",
       "      <td>37</td>\n",
       "      <td>2.350423e-09</td>\n",
       "      <td>7.563250e-12</td>\n",
       "      <td>8.066360e-16</td>\n",
       "      <td>1.054747e-09</td>\n",
       "      <td>2.419430e-09</td>\n",
       "      <td>8.104064e-09</td>\n",
       "      <td>3.573103e-08</td>\n",
       "      <td>1.551049e-08</td>\n",
       "      <td>...</td>\n",
       "      <td>4.379985e-09</td>\n",
       "      <td>0.752444</td>\n",
       "      <td>4.454556e-09</td>\n",
       "      <td>2.475488e-01</td>\n",
       "      <td>4.824296e-06</td>\n",
       "      <td>1.434474e-06</td>\n",
       "      <td>2.798373e-08</td>\n",
       "      <td>9.952091e-10</td>\n",
       "      <td>4.994712e-09</td>\n",
       "      <td>1.141087e-12</td>\n",
       "    </tr>\n",
       "  </tbody>\n",
       "</table>\n",
       "<p>5 rows × 41 columns</p>\n",
       "</div>"
      ],
      "text/plain": [
       "   objidtemp  class             0             1             2             3  \\\n",
       "0   32756761     30  4.225924e-04  5.353846e-06  4.398931e-07  1.035600e-04   \n",
       "1   32759364     30  2.933678e-35  0.000000e+00  0.000000e+00  0.000000e+00   \n",
       "2   32758055     20  9.539363e-11  4.330447e-13  1.361406e-15  5.001490e-11   \n",
       "3   32758988     37  2.947655e-07  2.374578e-07  7.156666e-09  4.608875e-07   \n",
       "4   32760598     37  2.350423e-09  7.563250e-12  8.066360e-16  1.054747e-09   \n",
       "\n",
       "              4             5             6             7      ...       \\\n",
       "0  3.435937e-04  2.287104e-03  4.355395e-04  3.163126e-02      ...        \n",
       "1  3.850884e-34  1.714461e-34  3.218765e-32  5.307083e-34      ...        \n",
       "2  1.131744e-09  2.093540e-10  2.082494e-08  1.231566e-08      ...        \n",
       "3  1.083095e-05  2.702946e-06  1.076727e-06  1.973584e-06      ...        \n",
       "4  2.419430e-09  8.104064e-09  3.573103e-08  1.551049e-08      ...        \n",
       "\n",
       "             29        30            31            32            33  \\\n",
       "0  1.646541e-04  0.216345  2.472599e-04  1.547790e-01  3.606438e-03   \n",
       "1  1.781475e-31  1.000000  1.780250e-33  6.749417e-19  4.423834e-23   \n",
       "2  4.195325e-09  0.012949  2.484652e-09  9.870500e-01  3.086805e-07   \n",
       "3  1.866016e-04  0.770909  5.435576e-07  2.681114e-04  1.553559e-04   \n",
       "4  4.379985e-09  0.752444  4.454556e-09  2.475488e-01  4.824296e-06   \n",
       "\n",
       "             34            35            36            37            38  \n",
       "0  5.748483e-01  3.317691e-03  5.535810e-04  2.047741e-04  8.097545e-06  \n",
       "1  1.112021e-28  2.745476e-34  8.658356e-35  1.956806e-31  0.000000e+00  \n",
       "2  1.009055e-07  4.239455e-09  3.761698e-09  6.762800e-10  7.223624e-14  \n",
       "3  1.690853e-05  1.114455e-06  1.539732e-05  9.388768e-04  7.061394e-07  \n",
       "4  1.434474e-06  2.798373e-08  9.952091e-10  4.994712e-09  1.141087e-12  \n",
       "\n",
       "[5 rows x 41 columns]"
      ]
     },
     "execution_count": 6,
     "metadata": {},
     "output_type": "execute_result"
    }
   ],
   "source": [
    "dfclassre.columns = ['objidtemp', 'class']\n",
    "dftemp = pd.concat([dfclassre,dfDLoutput], axis=1)\n",
    "dftemp.head()"
   ]
  },
  {
   "cell_type": "code",
   "execution_count": 7,
   "metadata": {
    "colab": {
     "base_uri": "https://localhost:8080/",
     "height": 35
    },
    "colab_type": "code",
    "executionInfo": {
     "elapsed": 21549,
     "status": "ok",
     "timestamp": 1556821251135,
     "user": {
      "displayName": "Long Thanh Nguyen",
      "photoUrl": "https://lh5.googleusercontent.com/-7qAqAOzYjhQ/AAAAAAAAAAI/AAAAAAACP8Y/-XIfAJwWP7o/s64/photo.jpg",
      "userId": "01317603220746098981"
     },
     "user_tz": -120
    },
    "id": "I2KDZjM6T0r2",
    "outputId": "84852cbe-a524-48f5-b68c-c8291aba50b0"
   },
   "outputs": [
    {
     "data": {
      "text/plain": [
       "(242607, 41)"
      ]
     },
     "execution_count": 7,
     "metadata": {},
     "output_type": "execute_result"
    }
   ],
   "source": [
    "dftemp.shape"
   ]
  },
  {
   "cell_type": "code",
   "execution_count": 8,
   "metadata": {
    "colab": {},
    "colab_type": "code",
    "id": "oJnpkBHB5UvH"
   },
   "outputs": [],
   "source": [
    "import missingno as msno # Missingno package for visualizing missing data"
   ]
  },
  {
   "cell_type": "markdown",
   "metadata": {
    "colab_type": "text",
    "id": "_vSQ6_4BT0r9"
   },
   "source": [
    "<div class=\"alert alert-info\">\n",
    "Although XGBOOST can accept the missing values, but will still want to have a quick look on it and impute by median\n",
    "</div>"
   ]
  },
  {
   "cell_type": "code",
   "execution_count": 9,
   "metadata": {
    "colab": {
     "base_uri": "https://localhost:8080/",
     "height": 293
    },
    "colab_type": "code",
    "executionInfo": {
     "elapsed": 22526,
     "status": "ok",
     "timestamp": 1556821252144,
     "user": {
      "displayName": "Long Thanh Nguyen",
      "photoUrl": "https://lh5.googleusercontent.com/-7qAqAOzYjhQ/AAAAAAAAAAI/AAAAAAACP8Y/-XIfAJwWP7o/s64/photo.jpg",
      "userId": "01317603220746098981"
     },
     "user_tz": -120
    },
    "id": "spgs1m10_Nam",
    "outputId": "ad152042-a62c-4bd5-c978-fe8f171f3cb3"
   },
   "outputs": [
    {
     "name": "stdout",
     "output_type": "stream",
     "text": [
      "The below table of the attributes having missing values and percentages of non-missing values of these attributes:\n",
      "\n",
      "                Total    Percent\n",
      "perimareaexc    34428  14.132425\n",
      "feretareaexc    34428  14.132425\n",
      "cdexc           34428  14.132425\n",
      "skeleton_area    6854   2.813513\n",
      "nb1_area         6854   2.813513\n",
      "symetrieh_area   6854   2.813513\n",
      "symetriev_area   6854   2.813513\n",
      "convarea_area    6854   2.813513\n",
      "nb2_area         6854   2.813513\n",
      "nb3_area         6854   2.813513\n",
      "\n",
      "The number of attributes have missing values are 10\n"
     ]
    }
   ],
   "source": [
    "total = df.isnull().sum().sort_values(ascending=False)\n",
    "percent = (df.isnull().sum()/df.isnull().count()*100).sort_values(ascending=False)\n",
    "missing = pd.concat([total, percent], axis=1, keys=['Total', 'Percent'])\n",
    "missing = missing[missing['Total']>0]\n",
    "print(\"The below table of the attributes having missing values and percentages of non-missing values of these attributes:\")\n",
    "print()\n",
    "print(missing)\n",
    "print()\n",
    "print(\"The number of attributes have missing values are\", len(missing))"
   ]
  },
  {
   "cell_type": "code",
   "execution_count": 10,
   "metadata": {
    "colab": {
     "base_uri": "https://localhost:8080/",
     "height": 711
    },
    "colab_type": "code",
    "executionInfo": {
     "elapsed": 24116,
     "status": "ok",
     "timestamp": 1556821253759,
     "user": {
      "displayName": "Long Thanh Nguyen",
      "photoUrl": "https://lh5.googleusercontent.com/-7qAqAOzYjhQ/AAAAAAAAAAI/AAAAAAACP8Y/-XIfAJwWP7o/s64/photo.jpg",
      "userId": "01317603220746098981"
     },
     "user_tz": -120
    },
    "id": "CsJdxNLe5UyB",
    "outputId": "97bd837f-674c-4778-ddc2-fa7988773c76"
   },
   "outputs": [
    {
     "data": {
      "text/plain": [
       "<matplotlib.axes._subplots.AxesSubplot at 0x7fb9892e3128>"
      ]
     },
     "execution_count": 10,
     "metadata": {},
     "output_type": "execute_result"
    },
    {
     "data": {
      "image/png": "[encoded data removed]",
      "text/plain": [
       "<Figure size 1800x720 with 2 Axes>"
      ]
     },
     "metadata": {},
     "output_type": "display_data"
    }
   ],
   "source": [
    "#collisions = df.nyc_collision_factors()\n",
    "#collisions = collisions.replace(\"nan\", np.nan)\n",
    "%matplotlib inline\n",
    "msno.matrix(df[missing.index])"
   ]
  },
  {
   "cell_type": "code",
   "execution_count": 11,
   "metadata": {
    "colab": {
     "base_uri": "https://localhost:8080/",
     "height": 478
    },
    "colab_type": "code",
    "executionInfo": {
     "elapsed": 28052,
     "status": "ok",
     "timestamp": 1556821257720,
     "user": {
      "displayName": "Long Thanh Nguyen",
      "photoUrl": "https://lh5.googleusercontent.com/-7qAqAOzYjhQ/AAAAAAAAAAI/AAAAAAACP8Y/-XIfAJwWP7o/s64/photo.jpg",
      "userId": "01317603220746098981"
     },
     "user_tz": -120
    },
    "id": "9EE9m39e3XZB",
    "outputId": "8a3f13fd-b9b1-4af0-ea73-b26ead6aaef4"
   },
   "outputs": [
    {
     "data": {
      "image/png": "[encoded data removed]",
      "text/plain": [
       "<Figure size 1080x432 with 10 Axes>"
      ]
     },
     "metadata": {},
     "output_type": "display_data"
    },
    {
     "name": "stdout",
     "output_type": "stream",
     "text": [
      "CPU times: user 6.42 s, sys: 2.06 s, total: 8.48 s\n",
      "Wall time: 6.12 s\n"
     ]
    }
   ],
   "source": [
    "%%time\n",
    "# visualize the distribution of each numerical feature\n",
    "#missing = missing[:]\n",
    "temp = pd.melt(df, value_vars=missing.index)\n",
    "grid = sns.FacetGrid(temp, col=\"variable\",  col_wrap=5 , height=3.0, \n",
    "                     aspect=1.0,sharex=False, sharey=False)\n",
    "sns.set_palette('Paired',30)\n",
    "grid.map(sns.distplot, \"value\",color='navy')\n",
    "plt.show()"
   ]
  },
  {
   "cell_type": "code",
   "execution_count": 12,
   "metadata": {
    "colab": {},
    "colab_type": "code",
    "id": "w3JFuwEU6md4"
   },
   "outputs": [],
   "source": [
    "#Fill missing data with median values as their all heavily skew\n",
    "for col in missing.index:\n",
    "  fillupvalue = df[col].dropna().median()\n",
    "  df.loc[df[col].isnull(),col] = fillupvalue\n"
   ]
  },
  {
   "cell_type": "code",
   "execution_count": 13,
   "metadata": {
    "colab": {
     "base_uri": "https://localhost:8080/",
     "height": 72
    },
    "colab_type": "code",
    "executionInfo": {
     "elapsed": 28030,
     "status": "ok",
     "timestamp": 1556821257731,
     "user": {
      "displayName": "Long Thanh Nguyen",
      "photoUrl": "https://lh5.googleusercontent.com/-7qAqAOzYjhQ/AAAAAAAAAAI/AAAAAAACP8Y/-XIfAJwWP7o/s64/photo.jpg",
      "userId": "01317603220746098981"
     },
     "user_tz": -120
    },
    "id": "Uf3mQmC6yjjA",
    "outputId": "a2ad50ce-00a1-45ae-c9c6-ca66838846a4"
   },
   "outputs": [
    {
     "name": "stdout",
     "output_type": "stream",
     "text": [
      "Empty DataFrame\n",
      "Columns: [Missing Ratio]\n",
      "Index: []\n"
     ]
    }
   ],
   "source": [
    "# Check if there are any missing values left\n",
    "all_data_na = (df.isnull().sum() / len(df)) * 100\n",
    "all_data_na = all_data_na.drop(all_data_na[all_data_na == 0].index).sort_values(ascending=False)\n",
    "missing_data = pd.DataFrame({'Missing Ratio' :all_data_na})\n",
    "print(missing_data.head())"
   ]
  },
  {
   "cell_type": "markdown",
   "metadata": {
    "colab_type": "text",
    "id": "Yf67zBhHT0sK"
   },
   "source": [
    "## XGBOOST on those handcrafted features only"
   ]
  },
  {
   "cell_type": "code",
   "execution_count": 14,
   "metadata": {
    "colab": {
     "base_uri": "https://localhost:8080/",
     "height": 35
    },
    "colab_type": "code",
    "executionInfo": {
     "elapsed": 28786,
     "status": "ok",
     "timestamp": 1556821258514,
     "user": {
      "displayName": "Long Thanh Nguyen",
      "photoUrl": "https://lh5.googleusercontent.com/-7qAqAOzYjhQ/AAAAAAAAAAI/AAAAAAACP8Y/-XIfAJwWP7o/s64/photo.jpg",
      "userId": "01317603220746098981"
     },
     "user_tz": -120
    },
    "id": "8rT1rgNzT0sL",
    "outputId": "faf94200-18ee-4f20-9455-45a225fd4470"
   },
   "outputs": [
    {
     "data": {
      "text/plain": [
       "(243610, 66)"
      ]
     },
     "execution_count": 14,
     "metadata": {},
     "output_type": "execute_result"
    }
   ],
   "source": [
    "# merge the objid and classification\n",
    "df = pd.merge(df, dfclassre, left_on='objid', right_on='objidtemp', how='left').drop(['objidtemp'], axis=1)\n",
    "df.shape"
   ]
  },
  {
   "cell_type": "code",
   "execution_count": 15,
   "metadata": {
    "colab": {
     "base_uri": "https://localhost:8080/",
     "height": 1578
    },
    "colab_type": "code",
    "executionInfo": {
     "elapsed": 28759,
     "status": "ok",
     "timestamp": 1556821258515,
     "user": {
      "displayName": "Long Thanh Nguyen",
      "photoUrl": "https://lh5.googleusercontent.com/-7qAqAOzYjhQ/AAAAAAAAAAI/AAAAAAACP8Y/-XIfAJwWP7o/s64/photo.jpg",
      "userId": "01317603220746098981"
     },
     "user_tz": -120
    },
    "id": "o_IIU5FET0sN",
    "outputId": "fa687ed5-8ec1-4068-d90e-7e03d6877c7f"
   },
   "outputs": [
    {
     "name": "stdout",
     "output_type": "stream",
     "text": [
      "<class 'pandas.core.frame.DataFrame'>\n",
      "Int64Index: 243610 entries, 0 to 243609\n",
      "Data columns (total 66 columns):\n",
      "objid                243610 non-null float64\n",
      "area                 243610 non-null float64\n",
      "meanimagegrey        243610 non-null float64\n",
      "mean                 243610 non-null float64\n",
      "stddev               243610 non-null float64\n",
      "min                  243610 non-null int64\n",
      "perim.               243610 non-null float64\n",
      "width                243610 non-null int64\n",
      "height               243610 non-null int64\n",
      "major                243610 non-null float64\n",
      "minor                243610 non-null float64\n",
      "angle                243610 non-null int64\n",
      "circ.                243610 non-null float64\n",
      "feret                243610 non-null float64\n",
      "intden               243610 non-null float64\n",
      "median               243610 non-null int64\n",
      "skew                 243610 non-null float64\n",
      "kurt                 243610 non-null float64\n",
      "%area                243610 non-null float64\n",
      "area_exc             243610 non-null float64\n",
      "fractal              243610 non-null float64\n",
      "skelarea             243610 non-null float64\n",
      "slope                243610 non-null float64\n",
      "histcum1             243610 non-null int64\n",
      "histcum2             243610 non-null int64\n",
      "histcum3             243610 non-null int64\n",
      "nb1                  243610 non-null int64\n",
      "nb2                  243610 non-null int64\n",
      "nb3                  243610 non-null int64\n",
      "symetrieh            243610 non-null float64\n",
      "symetriev            243610 non-null float64\n",
      "symetriehc           243610 non-null int64\n",
      "symetrievc           243610 non-null int64\n",
      "convperim            243610 non-null float64\n",
      "convarea             243610 non-null float64\n",
      "fcons                243610 non-null float64\n",
      "thickr               243610 non-null float64\n",
      "esd                  243610 non-null int64\n",
      "elongation           243610 non-null float64\n",
      "range                243610 non-null int64\n",
      "meanpos              243610 non-null float64\n",
      "centroids            243610 non-null int64\n",
      "cv                   243610 non-null float64\n",
      "sr                   243610 non-null float64\n",
      "perimareaexc         243610 non-null float64\n",
      "feretareaexc         243610 non-null float64\n",
      "perimferet           243610 non-null float64\n",
      "perimmajor           243610 non-null float64\n",
      "circex               243610 non-null float64\n",
      "cdexc                243610 non-null float64\n",
      "kurt_mean            243610 non-null float64\n",
      "skew_mean            243610 non-null float64\n",
      "convperim_perim      243610 non-null float64\n",
      "convarea_area        243610 non-null float64\n",
      "symetrieh_area       243610 non-null float64\n",
      "symetriev_area       243610 non-null float64\n",
      "nb1_area             243610 non-null float64\n",
      "nb2_area             243610 non-null float64\n",
      "nb3_area             243610 non-null float64\n",
      "nb1_range            243610 non-null float64\n",
      "nb2_range            243610 non-null float64\n",
      "nb3_range            243610 non-null float64\n",
      "median_mean          243610 non-null int64\n",
      "median_mean_range    243610 non-null float64\n",
      "skeleton_area        243610 non-null float64\n",
      "class                242607 non-null float64\n",
      "dtypes: float64(49), int64(17)\n",
      "memory usage: 124.5 MB\n"
     ]
    },
    {
     "data": {
      "text/plain": [
       "None"
      ]
     },
     "metadata": {},
     "output_type": "display_data"
    },
    {
     "data": {
      "text/html": [
       "<div>\n",
       "<style scoped>\n",
       "    .dataframe tbody tr th:only-of-type {\n",
       "        vertical-align: middle;\n",
       "    }\n",
       "\n",
       "    .dataframe tbody tr th {\n",
       "        vertical-align: top;\n",
       "    }\n",
       "\n",
       "    .dataframe thead th {\n",
       "        text-align: right;\n",
       "    }\n",
       "</style>\n",
       "<table border=\"1\" class=\"dataframe\">\n",
       "  <thead>\n",
       "    <tr style=\"text-align: right;\">\n",
       "      <th></th>\n",
       "      <th>objid</th>\n",
       "      <th>area</th>\n",
       "      <th>meanimagegrey</th>\n",
       "      <th>mean</th>\n",
       "      <th>stddev</th>\n",
       "      <th>min</th>\n",
       "      <th>perim.</th>\n",
       "      <th>width</th>\n",
       "      <th>height</th>\n",
       "      <th>major</th>\n",
       "      <th>...</th>\n",
       "      <th>nb1_area</th>\n",
       "      <th>nb2_area</th>\n",
       "      <th>nb3_area</th>\n",
       "      <th>nb1_range</th>\n",
       "      <th>nb2_range</th>\n",
       "      <th>nb3_range</th>\n",
       "      <th>median_mean</th>\n",
       "      <th>median_mean_range</th>\n",
       "      <th>skeleton_area</th>\n",
       "      <th>class</th>\n",
       "    </tr>\n",
       "  </thead>\n",
       "  <tbody>\n",
       "    <tr>\n",
       "      <th>0</th>\n",
       "      <td>32756761.0</td>\n",
       "      <td>6653.0</td>\n",
       "      <td>167.18</td>\n",
       "      <td>205.76</td>\n",
       "      <td>65.341</td>\n",
       "      <td>85</td>\n",
       "      <td>779.66</td>\n",
       "      <td>109</td>\n",
       "      <td>123</td>\n",
       "      <td>147.8</td>\n",
       "      <td>...</td>\n",
       "      <td>0.017964</td>\n",
       "      <td>0.017964</td>\n",
       "      <td>0.059880</td>\n",
       "      <td>0.017647</td>\n",
       "      <td>0.017647</td>\n",
       "      <td>0.058824</td>\n",
       "      <td>47</td>\n",
       "      <td>0.276471</td>\n",
       "      <td>91.778443</td>\n",
       "      <td>30.0</td>\n",
       "    </tr>\n",
       "    <tr>\n",
       "      <th>1</th>\n",
       "      <td>32759364.0</td>\n",
       "      <td>1275.0</td>\n",
       "      <td>165.83</td>\n",
       "      <td>234.29</td>\n",
       "      <td>38.562</td>\n",
       "      <td>98</td>\n",
       "      <td>186.99</td>\n",
       "      <td>33</td>\n",
       "      <td>65</td>\n",
       "      <td>82.4</td>\n",
       "      <td>...</td>\n",
       "      <td>0.024096</td>\n",
       "      <td>0.012048</td>\n",
       "      <td>0.006024</td>\n",
       "      <td>0.025478</td>\n",
       "      <td>0.012739</td>\n",
       "      <td>0.006369</td>\n",
       "      <td>21</td>\n",
       "      <td>0.133758</td>\n",
       "      <td>18.030120</td>\n",
       "      <td>30.0</td>\n",
       "    </tr>\n",
       "    <tr>\n",
       "      <th>2</th>\n",
       "      <td>32758055.0</td>\n",
       "      <td>2416.0</td>\n",
       "      <td>167.92</td>\n",
       "      <td>239.15</td>\n",
       "      <td>25.590</td>\n",
       "      <td>94</td>\n",
       "      <td>276.33</td>\n",
       "      <td>26</td>\n",
       "      <td>115</td>\n",
       "      <td>138.8</td>\n",
       "      <td>...</td>\n",
       "      <td>0.011905</td>\n",
       "      <td>0.053571</td>\n",
       "      <td>0.107143</td>\n",
       "      <td>0.012422</td>\n",
       "      <td>0.055901</td>\n",
       "      <td>0.111801</td>\n",
       "      <td>16</td>\n",
       "      <td>0.099379</td>\n",
       "      <td>24.892857</td>\n",
       "      <td>20.0</td>\n",
       "    </tr>\n",
       "    <tr>\n",
       "      <th>3</th>\n",
       "      <td>32758988.0</td>\n",
       "      <td>1433.0</td>\n",
       "      <td>167.34</td>\n",
       "      <td>248.79</td>\n",
       "      <td>20.933</td>\n",
       "      <td>107</td>\n",
       "      <td>388.40</td>\n",
       "      <td>126</td>\n",
       "      <td>117</td>\n",
       "      <td>151.2</td>\n",
       "      <td>...</td>\n",
       "      <td>0.000000</td>\n",
       "      <td>0.000000</td>\n",
       "      <td>0.023952</td>\n",
       "      <td>0.000000</td>\n",
       "      <td>0.000000</td>\n",
       "      <td>0.027027</td>\n",
       "      <td>6</td>\n",
       "      <td>0.040541</td>\n",
       "      <td>99.365269</td>\n",
       "      <td>37.0</td>\n",
       "    </tr>\n",
       "    <tr>\n",
       "      <th>4</th>\n",
       "      <td>32760598.0</td>\n",
       "      <td>1650.0</td>\n",
       "      <td>166.89</td>\n",
       "      <td>250.42</td>\n",
       "      <td>14.603</td>\n",
       "      <td>124</td>\n",
       "      <td>751.96</td>\n",
       "      <td>66</td>\n",
       "      <td>239</td>\n",
       "      <td>278.7</td>\n",
       "      <td>...</td>\n",
       "      <td>0.029940</td>\n",
       "      <td>0.083832</td>\n",
       "      <td>0.059880</td>\n",
       "      <td>0.038168</td>\n",
       "      <td>0.106870</td>\n",
       "      <td>0.076336</td>\n",
       "      <td>5</td>\n",
       "      <td>0.038168</td>\n",
       "      <td>109.449102</td>\n",
       "      <td>37.0</td>\n",
       "    </tr>\n",
       "  </tbody>\n",
       "</table>\n",
       "<p>5 rows × 66 columns</p>\n",
       "</div>"
      ],
      "text/plain": [
       "        objid    area  meanimagegrey    mean  stddev  min  perim.  width  \\\n",
       "0  32756761.0  6653.0         167.18  205.76  65.341   85  779.66    109   \n",
       "1  32759364.0  1275.0         165.83  234.29  38.562   98  186.99     33   \n",
       "2  32758055.0  2416.0         167.92  239.15  25.590   94  276.33     26   \n",
       "3  32758988.0  1433.0         167.34  248.79  20.933  107  388.40    126   \n",
       "4  32760598.0  1650.0         166.89  250.42  14.603  124  751.96     66   \n",
       "\n",
       "   height  major  ...    nb1_area  nb2_area  nb3_area  nb1_range  nb2_range  \\\n",
       "0     123  147.8  ...    0.017964  0.017964  0.059880   0.017647   0.017647   \n",
       "1      65   82.4  ...    0.024096  0.012048  0.006024   0.025478   0.012739   \n",
       "2     115  138.8  ...    0.011905  0.053571  0.107143   0.012422   0.055901   \n",
       "3     117  151.2  ...    0.000000  0.000000  0.023952   0.000000   0.000000   \n",
       "4     239  278.7  ...    0.029940  0.083832  0.059880   0.038168   0.106870   \n",
       "\n",
       "   nb3_range  median_mean  median_mean_range  skeleton_area  class  \n",
       "0   0.058824           47           0.276471      91.778443   30.0  \n",
       "1   0.006369           21           0.133758      18.030120   30.0  \n",
       "2   0.111801           16           0.099379      24.892857   20.0  \n",
       "3   0.027027            6           0.040541      99.365269   37.0  \n",
       "4   0.076336            5           0.038168     109.449102   37.0  \n",
       "\n",
       "[5 rows x 66 columns]"
      ]
     },
     "metadata": {},
     "output_type": "display_data"
    }
   ],
   "source": [
    "display(df.info())\n",
    "display(df.head())"
   ]
  },
  {
   "cell_type": "code",
   "execution_count": 16,
   "metadata": {
    "colab": {
     "base_uri": "https://localhost:8080/",
     "height": 127
    },
    "colab_type": "code",
    "executionInfo": {
     "elapsed": 29745,
     "status": "ok",
     "timestamp": 1556821259529,
     "user": {
      "displayName": "Long Thanh Nguyen",
      "photoUrl": "https://lh5.googleusercontent.com/-7qAqAOzYjhQ/AAAAAAAAAAI/AAAAAAACP8Y/-XIfAJwWP7o/s64/photo.jpg",
      "userId": "01317603220746098981"
     },
     "user_tz": -120
    },
    "id": "Bx9DyWC0T0sO",
    "outputId": "e17c12f2-b6e0-4180-a61c-fb0b9f92f00b"
   },
   "outputs": [
    {
     "name": "stdout",
     "output_type": "stream",
     "text": [
      "The below table of the attributes having missing values and percentages of non-missing values of these attributes:\n",
      "\n",
      "       Total   Percent\n",
      "class   1003  0.411724\n",
      "\n",
      "The number of attributes have missing values are 1\n"
     ]
    }
   ],
   "source": [
    "# Check if there are any missing values\n",
    "total = df.isnull().sum().sort_values(ascending=False)\n",
    "percent = (df.isnull().sum()/df.isnull().count()*100).sort_values(ascending=False)\n",
    "missing = pd.concat([total, percent], axis=1, keys=['Total', 'Percent'])\n",
    "missing = missing[missing['Total']>0]\n",
    "print(\"The below table of the attributes having missing values and percentages of non-missing values of these attributes:\")\n",
    "print()\n",
    "print(missing)\n",
    "print()\n",
    "print(\"The number of attributes have missing values are\", len(missing))"
   ]
  },
  {
   "cell_type": "code",
   "execution_count": 17,
   "metadata": {
    "colab": {},
    "colab_type": "code",
    "id": "YAwO4N9fT0sZ"
   },
   "outputs": [],
   "source": [
    "# delete the missing values\n",
    "df = df.dropna()"
   ]
  },
  {
   "cell_type": "code",
   "execution_count": 18,
   "metadata": {
    "colab": {
     "base_uri": "https://localhost:8080/",
     "height": 72
    },
    "colab_type": "code",
    "executionInfo": {
     "elapsed": 30130,
     "status": "ok",
     "timestamp": 1556821259937,
     "user": {
      "displayName": "Long Thanh Nguyen",
      "photoUrl": "https://lh5.googleusercontent.com/-7qAqAOzYjhQ/AAAAAAAAAAI/AAAAAAACP8Y/-XIfAJwWP7o/s64/photo.jpg",
      "userId": "01317603220746098981"
     },
     "user_tz": -120
    },
    "id": "72hVemdcT0sc",
    "outputId": "896ab843-219a-446c-ebaf-c773f001cba8"
   },
   "outputs": [
    {
     "name": "stdout",
     "output_type": "stream",
     "text": [
      "Empty DataFrame\n",
      "Columns: [Missing Ratio]\n",
      "Index: []\n"
     ]
    }
   ],
   "source": [
    "# Check if there are any missing values left\n",
    "all_data_na = (df.isnull().sum() / len(df)) * 100\n",
    "all_data_na = all_data_na.drop(all_data_na[all_data_na == 0].index).sort_values(ascending=False)\n",
    "missing_data = pd.DataFrame({'Missing Ratio' :all_data_na})\n",
    "print(missing_data.head())"
   ]
  },
  {
   "cell_type": "code",
   "execution_count": 19,
   "metadata": {
    "colab": {
     "base_uri": "https://localhost:8080/",
     "height": 35
    },
    "colab_type": "code",
    "executionInfo": {
     "elapsed": 30113,
     "status": "ok",
     "timestamp": 1556821259940,
     "user": {
      "displayName": "Long Thanh Nguyen",
      "photoUrl": "https://lh5.googleusercontent.com/-7qAqAOzYjhQ/AAAAAAAAAAI/AAAAAAACP8Y/-XIfAJwWP7o/s64/photo.jpg",
      "userId": "01317603220746098981"
     },
     "user_tz": -120
    },
    "id": "RoMLG6waT0sf",
    "outputId": "a73f8aaa-49b8-4084-9764-1df1f608e26e"
   },
   "outputs": [
    {
     "data": {
      "text/plain": [
       "(242607, 66)"
      ]
     },
     "execution_count": 19,
     "metadata": {},
     "output_type": "execute_result"
    }
   ],
   "source": [
    "df.shape"
   ]
  },
  {
   "cell_type": "code",
   "execution_count": 20,
   "metadata": {
    "colab": {
     "base_uri": "https://localhost:8080/",
     "height": 35
    },
    "colab_type": "code",
    "executionInfo": {
     "elapsed": 30093,
     "status": "ok",
     "timestamp": 1556821259943,
     "user": {
      "displayName": "Long Thanh Nguyen",
      "photoUrl": "https://lh5.googleusercontent.com/-7qAqAOzYjhQ/AAAAAAAAAAI/AAAAAAACP8Y/-XIfAJwWP7o/s64/photo.jpg",
      "userId": "01317603220746098981"
     },
     "user_tz": -120
    },
    "id": "3XczbrffT0si",
    "outputId": "c7320a51-be8e-4c57-f290-60cdb257f924"
   },
   "outputs": [
    {
     "data": {
      "text/plain": [
       "39"
      ]
     },
     "execution_count": 20,
     "metadata": {},
     "output_type": "execute_result"
    }
   ],
   "source": [
    "#get number of classes\n",
    "n_class = df['class'].nunique()\n",
    "n_class"
   ]
  },
  {
   "cell_type": "code",
   "execution_count": 21,
   "metadata": {
    "colab": {
     "base_uri": "https://localhost:8080/",
     "height": 35
    },
    "colab_type": "code",
    "executionInfo": {
     "elapsed": 30511,
     "status": "ok",
     "timestamp": 1556821260386,
     "user": {
      "displayName": "Long Thanh Nguyen",
      "photoUrl": "https://lh5.googleusercontent.com/-7qAqAOzYjhQ/AAAAAAAAAAI/AAAAAAACP8Y/-XIfAJwWP7o/s64/photo.jpg",
      "userId": "01317603220746098981"
     },
     "user_tz": -120
    },
    "id": "fboY19tOT0sl",
    "outputId": "98733316-f440-40f7-8aa9-28bedb71d841"
   },
   "outputs": [
    {
     "data": {
      "text/plain": [
       "((194086, 64), (48521, 64), (194086,), (48521,))"
      ]
     },
     "execution_count": 21,
     "metadata": {},
     "output_type": "execute_result"
    }
   ],
   "source": [
    "X_train = df.drop(['objid','class'], axis=1)[:194086]\n",
    "X_test = df.drop(['objid','class'], axis=1)[194086:]\n",
    "\n",
    "y_train = df['class'][:194086]\n",
    "y_test = df['class'][194086:]\n",
    "X_train.shape, X_test.shape, y_train.shape, y_test.shape"
   ]
  },
  {
   "cell_type": "markdown",
   "metadata": {
    "colab_type": "text",
    "id": "SvR5blMkUJQ8"
   },
   "source": [
    "## Trainng and fitting handrafted features with XGBOOST"
   ]
  },
  {
   "cell_type": "code",
   "execution_count": null,
   "metadata": {
    "colab": {},
    "colab_type": "code",
    "id": "ryd3sGvVT0sn",
    "outputId": "13cd2c99-54e7-44fb-cbdf-52d3692d1b58"
   },
   "outputs": [
    {
     "name": "stdout",
     "output_type": "stream",
     "text": [
      "CPU times: user 1h 17min 18s, sys: 24.9 s, total: 1h 17min 43s\n",
      "Wall time: 19min 59s\n"
     ]
    }
   ],
   "source": [
    "%%time\n",
    "#Early test with parameters\n",
    "model1 = XGBClassifier(learning_rate =0.1, \n",
    "                     n_estimators=100, #by default = 100\n",
    "                     max_depth=5, \n",
    "                     min_child_weight=1, \n",
    "                     gamma=0,\n",
    "                     subsample=0.8,\n",
    "                     colsample_bytree=0.8,\n",
    "                     objective= 'multi:softprob',\n",
    "                     num_class= n_class,\n",
    "                     nthread=4,\n",
    "                     seed=27,\n",
    "                     eval_metric=\"auc\")\n",
    "\n",
    "model1.fit(X_train, y_train)#, early_stopping_rounds=5, eval_set=[(X_test, y_test)])"
   ]
  },
  {
   "cell_type": "code",
   "execution_count": null,
   "metadata": {
    "colab": {},
    "colab_type": "code",
    "id": "LjIZl606T0so",
    "outputId": "be25ffaf-c6af-439a-8c90-ba1369d3ddac"
   },
   "outputs": [
    {
     "name": "stdout",
     "output_type": "stream",
     "text": [
      "0.628719164694144\n",
      "0.8365597668196432\n",
      "CPU times: user 2min 7s, sys: 524 ms, total: 2min 7s\n",
      "Wall time: 33.3 s\n"
     ]
    }
   ],
   "source": [
    "%%time\n",
    "#scoring on train set\n",
    "y_pred = model1.predict(X_train) #export class\n",
    "predictions = [round(value) for value in y_pred]\n",
    "print(f1_score(y_train, predictions, average='macro')) \n",
    "print(f1_score(y_train, predictions, average='weighted')) "
   ]
  },
  {
   "cell_type": "code",
   "execution_count": null,
   "metadata": {
    "colab": {},
    "colab_type": "code",
    "id": "MSVi4cTFT0sq",
    "outputId": "92cfd09d-6c85-4848-d174-37d41b5b3533"
   },
   "outputs": [
    {
     "name": "stdout",
     "output_type": "stream",
     "text": [
      "0.38613666406154085\n",
      "0.6960725458965256\n",
      "CPU times: user 31.7 s, sys: 32 ms, total: 31.8 s\n",
      "Wall time: 8.23 s\n"
     ]
    }
   ],
   "source": [
    "%%time\n",
    "# scoring on test set\n",
    "y_pred = model1.predict(X_test) #export class\n",
    "predictions = [round(value) for value in y_pred]\n",
    "print(f1_score(y_test, predictions, average='macro')) \n",
    "print(f1_score(y_test, predictions, average='weighted')) "
   ]
  },
  {
   "cell_type": "code",
   "execution_count": null,
   "metadata": {
    "colab": {},
    "colab_type": "code",
    "id": "4LnN7Rr8T0su"
   },
   "outputs": [],
   "source": [
    "#experiment with GridSearchCV\n",
    "param_test1 = {\n",
    "                'max_depth':range(6,8,2),\n",
    "                'min_child_weight':range(1,3,2)\n",
    "                }\n",
    "\n",
    "model2 = GridSearchCV(estimator = XGBClassifier(learning_rate =0.1, \n",
    "                                                n_estimators=500, \n",
    "                                                max_depth=5,\n",
    "                                                min_child_weight=1,\n",
    "                                                gamma=0, \n",
    "                                                subsample=0.8, \n",
    "                                                colsample_bytree=0.8,\n",
    "                                                objective= 'multi:softprob',\n",
    "                                                num_class= n_class,\n",
    "                                                nthread=4, \n",
    "                                                seed=27), \n",
    "                        param_grid = param_test1, \n",
    "                        scoring='f1_macro'\n",
    "                        #n_jobs=1\n",
    "                     )\n",
    "\n",
    "model2.fit(X_train, y_train)"
   ]
  },
  {
   "cell_type": "code",
   "execution_count": 28,
   "metadata": {
    "colab": {
     "base_uri": "https://localhost:8080/",
     "height": 458
    },
    "colab_type": "code",
    "executionInfo": {
     "elapsed": 697,
     "status": "ok",
     "timestamp": 1556861111125,
     "user": {
      "displayName": "Long Thanh Nguyen",
      "photoUrl": "https://lh5.googleusercontent.com/-7qAqAOzYjhQ/AAAAAAAAAAI/AAAAAAACP8Y/-XIfAJwWP7o/s64/photo.jpg",
      "userId": "01317603220746098981"
     },
     "user_tz": -120
    },
    "id": "syq3ERexJyKd",
    "outputId": "99743092-39c0-440e-cb5b-443f07318973"
   },
   "outputs": [
    {
     "data": {
      "text/plain": [
       "{'mean_fit_time': array([7845.08404493]),\n",
       " 'mean_score_time': array([133.84889396]),\n",
       " 'mean_test_score': array([0.40925932]),\n",
       " 'mean_train_score': array([0.99518005]),\n",
       " 'param_max_depth': masked_array(data=[6],\n",
       "              mask=[False],\n",
       "        fill_value='?',\n",
       "             dtype=object),\n",
       " 'param_min_child_weight': masked_array(data=[1],\n",
       "              mask=[False],\n",
       "        fill_value='?',\n",
       "             dtype=object),\n",
       " 'params': [{'max_depth': 6, 'min_child_weight': 1}],\n",
       " 'rank_test_score': array([1], dtype=int32),\n",
       " 'split0_test_score': array([0.40613364]),\n",
       " 'split0_train_score': array([0.99691625]),\n",
       " 'split1_test_score': array([0.37470671]),\n",
       " 'split1_train_score': array([0.9958181]),\n",
       " 'split2_test_score': array([0.44694489]),\n",
       " 'split2_train_score': array([0.99280579]),\n",
       " 'std_fit_time': array([423.3867381]),\n",
       " 'std_score_time': array([8.03003424]),\n",
       " 'std_test_score': array([0.02957207]),\n",
       " 'std_train_score': array([0.00173768])}"
      ]
     },
     "execution_count": 28,
     "metadata": {
      "tags": []
     },
     "output_type": "execute_result"
    }
   ],
   "source": [
    "model2.cv_results_"
   ]
  },
  {
   "cell_type": "code",
   "execution_count": 50,
   "metadata": {
    "colab": {
     "base_uri": "https://localhost:8080/",
     "height": 201
    },
    "colab_type": "code",
    "executionInfo": {
     "elapsed": 600,
     "status": "ok",
     "timestamp": 1556862194735,
     "user": {
      "displayName": "Long Thanh Nguyen",
      "photoUrl": "https://lh5.googleusercontent.com/-7qAqAOzYjhQ/AAAAAAAAAAI/AAAAAAACP8Y/-XIfAJwWP7o/s64/photo.jpg",
      "userId": "01317603220746098981"
     },
     "user_tz": -120
    },
    "id": "1zgbbbuUI5a3",
    "outputId": "599aaf04-b8ec-425b-d041-7c2bca425948"
   },
   "outputs": [
    {
     "name": "stdout",
     "output_type": "stream",
     "text": [
      "Best score: 0.40925932070267934\n",
      "Best parameters: {'max_depth': 6, 'min_child_weight': 1}\n",
      "Best best_estimator_: XGBClassifier(base_score=0.5, booster='gbtree', colsample_bylevel=1,\n",
      "       colsample_bytree=0.8, gamma=0, learning_rate=0.1, max_delta_step=0,\n",
      "       max_depth=6, min_child_weight=1, missing=None, n_estimators=500,\n",
      "       n_jobs=1, nthread=4, num_class=39, objective='multi:softprob',\n",
      "       random_state=0, reg_alpha=0, reg_lambda=1, scale_pos_weight=1,\n",
      "       seed=27, silent=True, subsample=0.8)\n",
      "Scorer: make_scorer(f1_score, pos_label=None, average=macro)\n",
      "Numer of time (hours) to retrain the best score: 3.799543668760194\n"
     ]
    }
   ],
   "source": [
    "print(\"Best score:\", model2.best_score_) \n",
    "print(\"Best parameters:\", model2.best_params_) \n",
    "print(\"Best best_estimator_:\", model2.best_estimator_) \n",
    "print(\"Scorer:\", model2.scorer_) \n",
    "print(\"Numer of time (hours) to retrain the best score:\", model2.refit_time_/60/60) "
   ]
  },
  {
   "cell_type": "markdown",
   "metadata": {
    "colab_type": "text",
    "id": "O_6SEb91O__1"
   },
   "source": [
    "**Compared with the previous result, we can concluded that the best parameters now is:** ``{'max_depth': 5, 'min_child_weight': 1}`` as the result from GridSearchCV actually worse that the previous one. "
   ]
  },
  {
   "cell_type": "code",
   "execution_count": null,
   "metadata": {
    "colab": {},
    "colab_type": "code",
    "id": "FIfm-ZGFT0sx"
   },
   "outputs": [
    {
     "name": "stderr",
     "output_type": "stream",
     "text": [
      "/usr/local/lib/python3.5/dist-packages/sklearn/metrics/classification.py:1135: UndefinedMetricWarning: F-score is ill-defined and being set to 0.0 in labels with no predicted samples.\n",
      "  'precision', 'predicted', average, warn_for)\n",
      "/usr/local/lib/python3.5/dist-packages/sklearn/metrics/classification.py:1135: UndefinedMetricWarning: F-score is ill-defined and being set to 0.0 in labels with no predicted samples.\n",
      "  'precision', 'predicted', average, warn_for)\n",
      "/usr/local/lib/python3.5/dist-packages/sklearn/metrics/classification.py:1135: UndefinedMetricWarning: F-score is ill-defined and being set to 0.0 in labels with no predicted samples.\n",
      "  'precision', 'predicted', average, warn_for)\n",
      "/usr/local/lib/python3.5/dist-packages/sklearn/metrics/classification.py:1135: UndefinedMetricWarning: F-score is ill-defined and being set to 0.0 in labels with no predicted samples.\n",
      "  'precision', 'predicted', average, warn_for)\n",
      "/usr/local/lib/python3.5/dist-packages/sklearn/metrics/classification.py:1135: UndefinedMetricWarning: F-score is ill-defined and being set to 0.0 in labels with no predicted samples.\n",
      "  'precision', 'predicted', average, warn_for)\n",
      "/usr/local/lib/python3.5/dist-packages/sklearn/metrics/classification.py:1135: UndefinedMetricWarning: F-score is ill-defined and being set to 0.0 in labels with no predicted samples.\n",
      "  'precision', 'predicted', average, warn_for)\n"
     ]
    }
   ],
   "source": [
    "%%time\n",
    "#Tune other parameter: gamma\n",
    "param_test2 = { \n",
    "    'gamma':[i/10.0 for i in range(1,3)] \n",
    "}\n",
    "model3 = GridSearchCV(estimator = XGBClassifier(learning_rate =0.1, \n",
    "                                                n_estimators=500, \n",
    "                                                max_depth=5,\n",
    "                                                min_child_weight=1,\n",
    "                                                subsample=0.8, \n",
    "                                                colsample_bytree=0.8,\n",
    "                                                objective= 'multi:softprob',\n",
    "                                                num_class= n_class,\n",
    "                                                nthread=4, \n",
    "                                                seed=27), \n",
    "                        param_grid = param_test2, \n",
    "                        scoring='f1_macro'\n",
    "                        #n_jobs=1\n",
    "                     )\n",
    "model3.fit(X_train, y_train)"
   ]
  },
  {
   "cell_type": "code",
   "execution_count": null,
   "metadata": {
    "colab": {},
    "colab_type": "code",
    "id": "fGFsZF_UT0sy"
   },
   "outputs": [],
   "source": [
    "model3.cv_results_"
   ]
  },
  {
   "cell_type": "code",
   "execution_count": null,
   "metadata": {
    "colab": {},
    "colab_type": "code",
    "id": "ROGRXsKxT0sz"
   },
   "outputs": [],
   "source": [
    "print(\"Best score:\", model3.best_score_) \n",
    "print(\"Best parameters:\", model3.best_params_) \n",
    "print(\"Best best_estimator_:\", model3.best_estimator_) \n",
    "print(\"Scorer:\", model3.scorer_) \n",
    "print(\"Numer of time (hours) to retrain the best score:\", model3.refit_time_/60/60) "
   ]
  },
  {
   "cell_type": "markdown",
   "metadata": {
    "colab": {},
    "colab_type": "code",
    "id": "db5E8vKHT0s1"
   },
   "source": [
    "# Conclusion"
   ]
  },
  {
   "cell_type": "markdown",
   "metadata": {},
   "source": [
    "<div class=\"alert alert-info\">\n",
    "<ul>\n",
    "    <li>We have successfully implemented the DenseNet - Deep Learning Model on our Dataset achieved <b>f1_score macro at 54&#37 </b> </li> \n",
    "    <li>We have tried to implement the <b>handcrafted features</b> from <b>features_native.csv</b> on <b>XGBOOST</b> model but did not beat the score from Deep Learning. However, due to the limited resource from Zoe (only 6 hours per session) or Google Colab - pretty slow and limited in 12 hours, we could not do more parameter tunning via <b>GridSearchCV</b> function from Scikit-learn library. We expect the result could be better if we could have more resources </li>\n",
    "    <li>We also do not have enough time and resoruces on the experiment with ensemble learning when we expect to use the 39 features export from Deep Learning Models, then put together with the <b>handcrafted features</b> as input of <b>XGBOOST</b> model<tt></li> \n",
    "</ul>\n",
    "</div>"
   ]
  },
  {
   "cell_type": "code",
   "execution_count": null,
   "metadata": {},
   "outputs": [],
   "source": []
  },
  {
   "cell_type": "code",
   "execution_count": null,
   "metadata": {},
   "outputs": [],
   "source": []
  },
  {
   "cell_type": "code",
   "execution_count": null,
   "metadata": {
    "colab": {},
    "colab_type": "code",
    "id": "3eUdOLJvT0s5"
   },
   "outputs": [],
   "source": []
  },
  {
   "cell_type": "code",
   "execution_count": null,
   "metadata": {
    "colab": {},
    "colab_type": "code",
    "id": "zUaNltDZT0t3"
   },
   "outputs": [],
   "source": []
  }
 ],
 "metadata": {
  "accelerator": "GPU",
  "colab": {
   "collapsed_sections": [],
   "name": "PlanktonfinalV3.ipynb",
   "provenance": [],
   "version": "0.3.2"
  },
  "kernelspec": {
   "display_name": "Python 3",
   "language": "python",
   "name": "python3"
  },
  "language_info": {
   "codemirror_mode": {
    "name": "ipython",
    "version": 3
   },
   "file_extension": ".py",
   "mimetype": "text/x-python",
   "name": "python",
   "nbconvert_exporter": "python",
   "pygments_lexer": "ipython3",
   "version": "3.5.2"
  }
 },
 "nbformat": 4,
 "nbformat_minor": 2
}
